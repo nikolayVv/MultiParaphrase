{
 "cells": [
  {
   "cell_type": "markdown",
   "id": "28a43fc8",
   "metadata": {},
   "source": [
    "# Filtering the datasets"
   ]
  },
  {
   "cell_type": "markdown",
   "id": "a420341a",
   "metadata": {},
   "source": [
    "## Datasets\n",
    "\n",
    "We are working with sentences for the following **4 languages**:\n",
    "1. English, **EN**\n",
    "2. German, **DE**\n",
    "3. Slovenian, **SL**\n",
    "4. Czech, **CZ**\n",
    "\n",
    "The **ParaCrawl** datasets we have extracted contain the following translations of sentences:\n",
    "1. CZ-EN\n",
    "2. DE-EN\n",
    "3. SL-EN\n",
    "\n",
    "The **MultiParaCrawl** datasets we have extracted contain the following translations of sentences:\n",
    "1. CZ-DE\n",
    "2. DE-SL\n",
    "3. SL-CZ"
   ]
  },
  {
   "cell_type": "markdown",
   "id": "519c557c",
   "metadata": {},
   "source": [
    "## Q&A\n",
    "\n",
    "We are trying to answer the following questions:\n",
    "> How **similar** are the sentences from the datasets we have extracted? - We have a total of **239,508** equal sentences from the three ParaCrawl datasets.\n",
    "\n",
    "> Can we merge the ParaCrawl datasets into one big **multilingual** dataset? - **Yes**, we can, since the size of the similar sentences from the ParaCrawl datasets is big enough. The multilingual dataset will have 239,508 rows and 5 columns (ID, English, German, Czech, Slovenian).\n",
    "\n",
    "> Will we need to use the **MultiParaCrawl** datasets as well in order to create multilingual dataset? - **No**, we will not need the three MultiParaCrawl datasets, since the size of the multilingual dataset created by merging the three ParaCrawl datasets is big enough.\n",
    "\n",
    "> What should be the **minimum length** of the sentences? - Depends on the complexity of the language and the type of text we are dealing with, but it is good to keep sentences that are at least **5-10** words long.\n",
    "\n",
    "> What should be the **maximum length** of the sentences? - Depends on the complexity of the language and the type of text we are dealing with, but it is good to keep sentences that are no longer than **20-25** words.\n",
    "\n",
    "> How big will be the **size** of the filtered datasets? - Depending on the computational resources and time available for training the model, but it is recommended to have a dataset of at leas **10,000 - 20,000** to train a good paraphrasing model. After filtering, the left size of our datasets is **...**.\n",
    "\n"
   ]
  },
  {
   "cell_type": "markdown",
   "id": "f81c366f",
   "metadata": {},
   "source": [
    "## Implementation\n",
    "\n",
    "### 1. Similarity of datasets\n",
    "\n",
    "First we will test the similar sentences from the **ParaCrawl** datasets.\n",
    "\n",
    "#### 1.1. Load the datasets and export them as csv files"
   ]
  },
  {
   "cell_type": "code",
   "execution_count": 7,
   "id": "38cb1325",
   "metadata": {},
   "outputs": [],
   "source": [
    "# Configurations\n",
    "import pandas as pd\n",
    "from datasets import load_dataset # conda install -c huggingface huggingface_hub -c conda-forge datasets"
   ]
  },
  {
   "cell_type": "code",
   "execution_count": 9,
   "id": "3b196f91",
   "metadata": {},
   "outputs": [
    {
     "name": "stdout",
     "output_type": "stream",
     "text": [
      "Downloading and preparing dataset para_crawl/encs to C:/Users/Acer/.cache/huggingface/datasets/para_crawl/encs/1.0.0/2e46aec87ddf3adceaf5bcd3c4bbe167c1cbb74aea5758e7821a99d63149c5ec...\n"
     ]
    },
    {
     "data": {
      "application/vnd.jupyter.widget-view+json": {
       "model_id": "9345cc5d39cb477e88fdd33ccc207a59",
       "version_major": 2,
       "version_minor": 0
      },
      "text/plain": [
       "Downloading data files:   0%|          | 0/1 [00:00<?, ?it/s]"
      ]
     },
     "metadata": {},
     "output_type": "display_data"
    },
    {
     "data": {
      "application/vnd.jupyter.widget-view+json": {
       "model_id": "ecb57220a1e34db09eb56625a4455380",
       "version_major": 2,
       "version_minor": 0
      },
      "text/plain": [
       "Downloading data:   0%|          | 0.00/196M [00:00<?, ?B/s]"
      ]
     },
     "metadata": {},
     "output_type": "display_data"
    },
    {
     "data": {
      "application/vnd.jupyter.widget-view+json": {
       "model_id": "058229b7b35f4d769d4de9b6957278da",
       "version_major": 2,
       "version_minor": 0
      },
      "text/plain": [
       "Extracting data files:   0%|          | 0/1 [00:00<?, ?it/s]"
      ]
     },
     "metadata": {},
     "output_type": "display_data"
    },
    {
     "data": {
      "application/vnd.jupyter.widget-view+json": {
       "model_id": "",
       "version_major": 2,
       "version_minor": 0
      },
      "text/plain": [
       "Generating train split:   0%|          | 0/2981949 [00:00<?, ? examples/s]"
      ]
     },
     "metadata": {},
     "output_type": "display_data"
    },
    {
     "name": "stdout",
     "output_type": "stream",
     "text": [
      "Dataset para_crawl downloaded and prepared to C:/Users/Acer/.cache/huggingface/datasets/para_crawl/encs/1.0.0/2e46aec87ddf3adceaf5bcd3c4bbe167c1cbb74aea5758e7821a99d63149c5ec. Subsequent calls will reuse this data.\n"
     ]
    },
    {
     "data": {
      "application/vnd.jupyter.widget-view+json": {
       "model_id": "ae900f56a1bd4f338c056c248580f233",
       "version_major": 2,
       "version_minor": 0
      },
      "text/plain": [
       "  0%|          | 0/1 [00:00<?, ?it/s]"
      ]
     },
     "metadata": {},
     "output_type": "display_data"
    }
   ],
   "source": [
    "# Load the CZ-EN dataset\n",
    "dataset_cz_en = load_dataset(\"para_crawl\", \"encs\")"
   ]
  },
  {
   "cell_type": "code",
   "execution_count": 61,
   "id": "feefedd5",
   "metadata": {},
   "outputs": [
    {
     "data": {
      "text/html": [
       "<div>\n",
       "<style scoped>\n",
       "    .dataframe tbody tr th:only-of-type {\n",
       "        vertical-align: middle;\n",
       "    }\n",
       "\n",
       "    .dataframe tbody tr th {\n",
       "        vertical-align: top;\n",
       "    }\n",
       "\n",
       "    .dataframe thead th {\n",
       "        text-align: right;\n",
       "    }\n",
       "</style>\n",
       "<table border=\"1\" class=\"dataframe\">\n",
       "  <thead>\n",
       "    <tr style=\"text-align: right;\">\n",
       "      <th></th>\n",
       "      <th>Czech</th>\n",
       "      <th>English</th>\n",
       "    </tr>\n",
       "  </thead>\n",
       "  <tbody>\n",
       "    <tr>\n",
       "      <th>0</th>\n",
       "      <td>Wy , se také setkal s “ Příslušný stavební zko...</td>\n",
       "      <td>A wy , also met with “ by professional test ” ...</td>\n",
       "    </tr>\n",
       "    <tr>\n",
       "      <th>1</th>\n",
       "      <td>Wy, se také setkal s “Příslušný stavební zkouš...</td>\n",
       "      <td>A wy, also met with “by professional test” ima...</td>\n",
       "    </tr>\n",
       "    <tr>\n",
       "      <th>2</th>\n",
       "      <td>Wy, se také setkal s “Příslušný stavební zkouš...</td>\n",
       "      <td>A wy, also met with “by professional test” ima...</td>\n",
       "    </tr>\n",
       "    <tr>\n",
       "      <th>3</th>\n",
       "      <td>Z francouzského PIM , v 2013, to je jen 9 ostr...</td>\n",
       "      <td>Among the French PIM, in 2013, it is only 9 is...</td>\n",
       "    </tr>\n",
       "    <tr>\n",
       "      <th>4</th>\n",
       "      <td>Z francouzského PIM, v 2013, to je jen 9 ostro...</td>\n",
       "      <td>Among the French PIM, in 2013, it is only 9 is...</td>\n",
       "    </tr>\n",
       "  </tbody>\n",
       "</table>\n",
       "</div>"
      ],
      "text/plain": [
       "                                               Czech  \\\n",
       "0  Wy , se také setkal s “ Příslušný stavební zko...   \n",
       "1  Wy, se také setkal s “Příslušný stavební zkouš...   \n",
       "2  Wy, se také setkal s “Příslušný stavební zkouš...   \n",
       "3  Z francouzského PIM , v 2013, to je jen 9 ostr...   \n",
       "4  Z francouzského PIM, v 2013, to je jen 9 ostro...   \n",
       "\n",
       "                                             English  \n",
       "0  A wy , also met with “ by professional test ” ...  \n",
       "1  A wy, also met with “by professional test” ima...  \n",
       "2  A wy, also met with “by professional test” ima...  \n",
       "3  Among the French PIM, in 2013, it is only 9 is...  \n",
       "4  Among the French PIM, in 2013, it is only 9 is...  "
      ]
     },
     "execution_count": 61,
     "metadata": {},
     "output_type": "execute_result"
    }
   ],
   "source": [
    "# Convert to a DataFrame\n",
    "df_cz_en = pd.DataFrame(dataset_cz_en['train']['translation'])\n",
    "df_cz_en.rename(columns={'cs': 'Czech', 'en': 'English'}, inplace=True)\n",
    "df_cz_en.head()"
   ]
  },
  {
   "cell_type": "code",
   "execution_count": 62,
   "id": "a77757c2",
   "metadata": {},
   "outputs": [
    {
     "name": "stdout",
     "output_type": "stream",
     "text": [
      "Downloading and preparing dataset para_crawl/ende to C:/Users/Acer/.cache/huggingface/datasets/para_crawl/ende/1.0.0/2e46aec87ddf3adceaf5bcd3c4bbe167c1cbb74aea5758e7821a99d63149c5ec...\n"
     ]
    },
    {
     "data": {
      "application/vnd.jupyter.widget-view+json": {
       "model_id": "232a7ecab1cd4d6581e3c03adbeec2b4",
       "version_major": 2,
       "version_minor": 0
      },
      "text/plain": [
       "Downloading data files:   0%|          | 0/1 [00:00<?, ?it/s]"
      ]
     },
     "metadata": {},
     "output_type": "display_data"
    },
    {
     "data": {
      "application/vnd.jupyter.widget-view+json": {
       "model_id": "44665d0b9748488cacaddb726aa0e227",
       "version_major": 2,
       "version_minor": 0
      },
      "text/plain": [
       "Downloading data:   0%|          | 0.00/1.31G [00:00<?, ?B/s]"
      ]
     },
     "metadata": {},
     "output_type": "display_data"
    },
    {
     "data": {
      "application/vnd.jupyter.widget-view+json": {
       "model_id": "c9212567c4684f1d93b79b45561e1099",
       "version_major": 2,
       "version_minor": 0
      },
      "text/plain": [
       "Extracting data files:   0%|          | 0/1 [00:00<?, ?it/s]"
      ]
     },
     "metadata": {},
     "output_type": "display_data"
    },
    {
     "data": {
      "application/vnd.jupyter.widget-view+json": {
       "model_id": "",
       "version_major": 2,
       "version_minor": 0
      },
      "text/plain": [
       "Generating train split:   0%|          | 0/16264448 [00:00<?, ? examples/s]"
      ]
     },
     "metadata": {},
     "output_type": "display_data"
    },
    {
     "name": "stdout",
     "output_type": "stream",
     "text": [
      "Dataset para_crawl downloaded and prepared to C:/Users/Acer/.cache/huggingface/datasets/para_crawl/ende/1.0.0/2e46aec87ddf3adceaf5bcd3c4bbe167c1cbb74aea5758e7821a99d63149c5ec. Subsequent calls will reuse this data.\n"
     ]
    },
    {
     "data": {
      "application/vnd.jupyter.widget-view+json": {
       "model_id": "2760811274a84ccc8011f143cc801781",
       "version_major": 2,
       "version_minor": 0
      },
      "text/plain": [
       "  0%|          | 0/1 [00:00<?, ?it/s]"
      ]
     },
     "metadata": {},
     "output_type": "display_data"
    }
   ],
   "source": [
    "# Load the DE-EN dataset\n",
    "dataset_de_en = load_dataset(\"para_crawl\", \"ende\")"
   ]
  },
  {
   "cell_type": "code",
   "execution_count": 63,
   "id": "11ce7f09",
   "metadata": {},
   "outputs": [
    {
     "data": {
      "text/html": [
       "<div>\n",
       "<style scoped>\n",
       "    .dataframe tbody tr th:only-of-type {\n",
       "        vertical-align: middle;\n",
       "    }\n",
       "\n",
       "    .dataframe tbody tr th {\n",
       "        vertical-align: top;\n",
       "    }\n",
       "\n",
       "    .dataframe thead th {\n",
       "        text-align: right;\n",
       "    }\n",
       "</style>\n",
       "<table border=\"1\" class=\"dataframe\">\n",
       "  <thead>\n",
       "    <tr style=\"text-align: right;\">\n",
       "      <th></th>\n",
       "      <th>German</th>\n",
       "      <th>English</th>\n",
       "    </tr>\n",
       "  </thead>\n",
       "  <tbody>\n",
       "    <tr>\n",
       "      <th>0</th>\n",
       "      <td>La coutume veut qu’avec la nouvelle année, jed...</td>\n",
       "      <td>La coutume veut qu’avec la nouvelle année, eac...</td>\n",
       "    </tr>\n",
       "    <tr>\n",
       "      <th>1</th>\n",
       "      <td>»Das Ziel war, Schriftsteller zu werden und zu...</td>\n",
       "      <td>\"The goal was , To become a writer and to be. ...</td>\n",
       "    </tr>\n",
       "    <tr>\n",
       "      <th>2</th>\n",
       "      <td>»Das Ziel war, Schriftsteller zu werden und zu...</td>\n",
       "      <td>\"The goal was, To become a writer and to be. \"...</td>\n",
       "    </tr>\n",
       "    <tr>\n",
       "      <th>3</th>\n",
       "      <td>‘Ich stecke in allen Figuren’, sagt Chirbes. ‘...</td>\n",
       "      <td>'I'm in all the figures', says Chirbes. 'A lig...</td>\n",
       "    </tr>\n",
       "    <tr>\n",
       "      <th>4</th>\n",
       "      <td>‚Ich stecke in allen Figuren‘, sagt Chirbes. ‚...</td>\n",
       "      <td>'I'm in all the figures', says Chirbes. 'A lig...</td>\n",
       "    </tr>\n",
       "  </tbody>\n",
       "</table>\n",
       "</div>"
      ],
      "text/plain": [
       "                                              German  \\\n",
       "0  La coutume veut qu’avec la nouvelle année, jed...   \n",
       "1  »Das Ziel war, Schriftsteller zu werden und zu...   \n",
       "2  »Das Ziel war, Schriftsteller zu werden und zu...   \n",
       "3  ‘Ich stecke in allen Figuren’, sagt Chirbes. ‘...   \n",
       "4  ‚Ich stecke in allen Figuren‘, sagt Chirbes. ‚...   \n",
       "\n",
       "                                             English  \n",
       "0  La coutume veut qu’avec la nouvelle année, eac...  \n",
       "1  \"The goal was , To become a writer and to be. ...  \n",
       "2  \"The goal was, To become a writer and to be. \"...  \n",
       "3  'I'm in all the figures', says Chirbes. 'A lig...  \n",
       "4  'I'm in all the figures', says Chirbes. 'A lig...  "
      ]
     },
     "execution_count": 63,
     "metadata": {},
     "output_type": "execute_result"
    }
   ],
   "source": [
    "# Convert to a DataFrame\n",
    "df_de_en = pd.DataFrame(dataset_de_en['train']['translation'])\n",
    "df_de_en.rename(columns={'de': 'German', 'en': 'English'}, inplace=True)\n",
    "df_de_en.head()"
   ]
  },
  {
   "cell_type": "code",
   "execution_count": 64,
   "id": "ba1604b7",
   "metadata": {},
   "outputs": [
    {
     "name": "stdout",
     "output_type": "stream",
     "text": [
      "Downloading and preparing dataset para_crawl/ensl to C:/Users/Acer/.cache/huggingface/datasets/para_crawl/ensl/1.0.0/2e46aec87ddf3adceaf5bcd3c4bbe167c1cbb74aea5758e7821a99d63149c5ec...\n"
     ]
    },
    {
     "data": {
      "application/vnd.jupyter.widget-view+json": {
       "model_id": "41b65fb04d3143d0948690d29a113222",
       "version_major": 2,
       "version_minor": 0
      },
      "text/plain": [
       "Downloading data files:   0%|          | 0/1 [00:00<?, ?it/s]"
      ]
     },
     "metadata": {},
     "output_type": "display_data"
    },
    {
     "data": {
      "application/vnd.jupyter.widget-view+json": {
       "model_id": "4e429d5d86414db4b1eb6a34a8f2ac9a",
       "version_major": 2,
       "version_minor": 0
      },
      "text/plain": [
       "Downloading data:   0%|          | 0.00/65.0M [00:00<?, ?B/s]"
      ]
     },
     "metadata": {},
     "output_type": "display_data"
    },
    {
     "data": {
      "application/vnd.jupyter.widget-view+json": {
       "model_id": "1e14cae60e0f4229afa44e3ad242ce9a",
       "version_major": 2,
       "version_minor": 0
      },
      "text/plain": [
       "Extracting data files:   0%|          | 0/1 [00:00<?, ?it/s]"
      ]
     },
     "metadata": {},
     "output_type": "display_data"
    },
    {
     "data": {
      "application/vnd.jupyter.widget-view+json": {
       "model_id": "",
       "version_major": 2,
       "version_minor": 0
      },
      "text/plain": [
       "Generating train split:   0%|          | 0/660161 [00:00<?, ? examples/s]"
      ]
     },
     "metadata": {},
     "output_type": "display_data"
    },
    {
     "name": "stdout",
     "output_type": "stream",
     "text": [
      "Dataset para_crawl downloaded and prepared to C:/Users/Acer/.cache/huggingface/datasets/para_crawl/ensl/1.0.0/2e46aec87ddf3adceaf5bcd3c4bbe167c1cbb74aea5758e7821a99d63149c5ec. Subsequent calls will reuse this data.\n"
     ]
    },
    {
     "data": {
      "application/vnd.jupyter.widget-view+json": {
       "model_id": "abdeb57bccc84c779488b81f9fe775a2",
       "version_major": 2,
       "version_minor": 0
      },
      "text/plain": [
       "  0%|          | 0/1 [00:00<?, ?it/s]"
      ]
     },
     "metadata": {},
     "output_type": "display_data"
    }
   ],
   "source": [
    "# Load the SL-EN dataset\n",
    "dataset_sl_en = load_dataset(\"para_crawl\", \"ensl\")"
   ]
  },
  {
   "cell_type": "code",
   "execution_count": 65,
   "id": "2729dd3e",
   "metadata": {},
   "outputs": [
    {
     "data": {
      "text/html": [
       "<div>\n",
       "<style scoped>\n",
       "    .dataframe tbody tr th:only-of-type {\n",
       "        vertical-align: middle;\n",
       "    }\n",
       "\n",
       "    .dataframe tbody tr th {\n",
       "        vertical-align: top;\n",
       "    }\n",
       "\n",
       "    .dataframe thead th {\n",
       "        text-align: right;\n",
       "    }\n",
       "</style>\n",
       "<table border=\"1\" class=\"dataframe\">\n",
       "  <thead>\n",
       "    <tr style=\"text-align: right;\">\n",
       "      <th></th>\n",
       "      <th>English</th>\n",
       "      <th>Slovenian</th>\n",
       "    </tr>\n",
       "  </thead>\n",
       "  <tbody>\n",
       "    <tr>\n",
       "      <th>0</th>\n",
       "      <td>1. First, press the START (or sign in the left...</td>\n",
       "      <td>1. Najprej pritisnite tipko START (ali znak v ...</td>\n",
       "    </tr>\n",
       "    <tr>\n",
       "      <th>1</th>\n",
       "      <td>An anatomy of the right terror in Germany and ...</td>\n",
       "      <td>Anatomija pravi teror v Nemčiji in nesposobni ...</td>\n",
       "    </tr>\n",
       "    <tr>\n",
       "      <th>2</th>\n",
       "      <td>An anatomy of the right terror in Germany and ...</td>\n",
       "      <td>Anatomija pravi teror v Nemčiji in nesposobni ...</td>\n",
       "    </tr>\n",
       "    <tr>\n",
       "      <th>3</th>\n",
       "      <td>An anatomy of the right terror in Germany and ...</td>\n",
       "      <td>Anatomija pravi teror v Nemčiji in nesposobni ...</td>\n",
       "    </tr>\n",
       "    <tr>\n",
       "      <th>4</th>\n",
       "      <td>An anatomy of the right terror in Germany and ...</td>\n",
       "      <td>Anatomija pravi teror v Nemčiji in nesposobni ...</td>\n",
       "    </tr>\n",
       "  </tbody>\n",
       "</table>\n",
       "</div>"
      ],
      "text/plain": [
       "                                             English  \\\n",
       "0  1. First, press the START (or sign in the left...   \n",
       "1  An anatomy of the right terror in Germany and ...   \n",
       "2  An anatomy of the right terror in Germany and ...   \n",
       "3  An anatomy of the right terror in Germany and ...   \n",
       "4  An anatomy of the right terror in Germany and ...   \n",
       "\n",
       "                                           Slovenian  \n",
       "0  1. Najprej pritisnite tipko START (ali znak v ...  \n",
       "1  Anatomija pravi teror v Nemčiji in nesposobni ...  \n",
       "2  Anatomija pravi teror v Nemčiji in nesposobni ...  \n",
       "3  Anatomija pravi teror v Nemčiji in nesposobni ...  \n",
       "4  Anatomija pravi teror v Nemčiji in nesposobni ...  "
      ]
     },
     "execution_count": 65,
     "metadata": {},
     "output_type": "execute_result"
    }
   ],
   "source": [
    "# Convert to a DataFrame\n",
    "df_sl_en = pd.DataFrame(dataset_sl_en['train']['translation'])\n",
    "df_sl_en.rename(columns={'sl': 'Slovenian', 'en': 'English'}, inplace=True)\n",
    "df_sl_en.head()"
   ]
  },
  {
   "cell_type": "code",
   "execution_count": 15,
   "id": "07ecee50",
   "metadata": {},
   "outputs": [
    {
     "name": "stdout",
     "output_type": "stream",
     "text": [
      "Old lengths: CZ-EN(2981937), DE-EN(16264448), SL-EN(660161)\n",
      "New lengths: CZ-EN(2981937), DE-EN(16264358), SL-EN(660145)\n"
     ]
    }
   ],
   "source": [
    "# Delete duplicates\n",
    "print(f\"Old lengths: CZ-EN({len(df_cz_en)}), DE-EN({len(df_de_en)}), SL-EN({len(df_sl_en)})\")\n",
    "df_cz_en.drop_duplicates(inplace=True)\n",
    "df_de_en.drop_duplicates(inplace=True)\n",
    "df_sl_en.drop_duplicates(inplace=True)\n",
    "print(f\"New lengths: CZ-EN({len(df_cz_en)}), DE-EN({len(df_de_en)}), SL-EN({len(df_sl_en)})\")"
   ]
  },
  {
   "cell_type": "code",
   "execution_count": 16,
   "id": "4c2de549",
   "metadata": {},
   "outputs": [],
   "source": [
    "# Extract the CZ-EN dataset as a csv file\n",
    "df_cz_en.to_csv('data/cz_en.csv', index=False)"
   ]
  },
  {
   "cell_type": "code",
   "execution_count": 17,
   "id": "f598dcff",
   "metadata": {},
   "outputs": [],
   "source": [
    "# Extract the DE-EN dataset as a csv file\n",
    "df_de_en.to_csv('data/de_en.csv', index=False)"
   ]
  },
  {
   "cell_type": "code",
   "execution_count": 18,
   "id": "46d1d5f7",
   "metadata": {},
   "outputs": [],
   "source": [
    "# Extract the SL-EN dataset as a csv file\n",
    "df_sl_en.to_csv('data/sl_en.csv', index=False)"
   ]
  },
  {
   "cell_type": "markdown",
   "id": "86eee6d7",
   "metadata": {},
   "source": [
    "#### 1.2. Find the similar sentences "
   ]
  },
  {
   "cell_type": "code",
   "execution_count": 19,
   "id": "2554600f",
   "metadata": {},
   "outputs": [],
   "source": [
    "# Configurations\n",
    "import pandas as pd"
   ]
  },
  {
   "cell_type": "code",
   "execution_count": 20,
   "id": "02c87988",
   "metadata": {},
   "outputs": [],
   "source": [
    "# Load the data\n",
    "df_cz_en = pd.read_csv(\"data/cz_en.csv\")\n",
    "df_de_en = pd.read_csv(\"data/de_en.csv\")\n",
    "df_sl_en = pd.read_csv(\"data/sl_en.csv\")"
   ]
  },
  {
   "cell_type": "markdown",
   "id": "303bb20a",
   "metadata": {},
   "source": [
    "First we will find the similar sentences from the CZ-EN and SL-EN datasets"
   ]
  },
  {
   "cell_type": "code",
   "execution_count": 50,
   "id": "35e74688",
   "metadata": {},
   "outputs": [
    {
     "data": {
      "text/html": [
       "<div>\n",
       "<style scoped>\n",
       "    .dataframe tbody tr th:only-of-type {\n",
       "        vertical-align: middle;\n",
       "    }\n",
       "\n",
       "    .dataframe tbody tr th {\n",
       "        vertical-align: top;\n",
       "    }\n",
       "\n",
       "    .dataframe thead th {\n",
       "        text-align: right;\n",
       "    }\n",
       "</style>\n",
       "<table border=\"1\" class=\"dataframe\">\n",
       "  <thead>\n",
       "    <tr style=\"text-align: right;\">\n",
       "      <th></th>\n",
       "      <th>English</th>\n",
       "      <th>Slovenian</th>\n",
       "      <th>Czech</th>\n",
       "    </tr>\n",
       "  </thead>\n",
       "  <tbody>\n",
       "    <tr>\n",
       "      <th>0</th>\n",
       "      <td>Animation allows the skyderen gradually change...</td>\n",
       "      <td>Animacija omogoča Drsnik postopoma spreminja v...</td>\n",
       "      <td>Animace umožňuje Posuvník se postupně mění hod...</td>\n",
       "    </tr>\n",
       "    <tr>\n",
       "      <th>1</th>\n",
       "      <td>! Na for public exposure.</td>\n",
       "      <td>! Na javno izpostavljenost.</td>\n",
       "      <td>! Na veřejné vystavení.</td>\n",
       "    </tr>\n",
       "    <tr>\n",
       "      <th>2</th>\n",
       "      <td>!{Star Trek} medals are used to unlock future ...</td>\n",
       "      <td>Medalje Star Trek se uporabljajo za odklep bod...</td>\n",
       "      <td>Medaile Star Trek se používají k otevření dalš...</td>\n",
       "    </tr>\n",
       "    <tr>\n",
       "      <th>3</th>\n",
       "      <td>\" Egyptian mummies were made as \"\" built like ...</td>\n",
       "      <td>\" Egipčanske mumije so bile narejene kot \"\" zg...</td>\n",
       "      <td>\" Egyptských mumií byly jako \"\" postavený jako...</td>\n",
       "    </tr>\n",
       "    <tr>\n",
       "      <th>4</th>\n",
       "      <td>\" Enablers\" , i.e. the basic building blocks w...</td>\n",
       "      <td>„potencial“ : temeljni gradniki, ki omogočajo ...</td>\n",
       "      <td>„ Předpoklady “, tj. základní stavební kameny,...</td>\n",
       "    </tr>\n",
       "    <tr>\n",
       "      <th>...</th>\n",
       "      <td>...</td>\n",
       "      <td>...</td>\n",
       "      <td>...</td>\n",
       "    </tr>\n",
       "    <tr>\n",
       "      <th>222053</th>\n",
       "      <td>● promote diversity and increased integration ...</td>\n",
       "      <td>● spodbujanje raznolikosti in večje področje i...</td>\n",
       "      <td>● podporovat rozmanitost a větší integrace plo...</td>\n",
       "    </tr>\n",
       "    <tr>\n",
       "      <th>222054</th>\n",
       "      <td>● promote greater understanding between the di...</td>\n",
       "      <td>● spodbujanje boljšega razumevanja med okrožni...</td>\n",
       "      <td>● podporovat větší porozumění mezi okresních s...</td>\n",
       "    </tr>\n",
       "    <tr>\n",
       "      <th>222055</th>\n",
       "      <td>● strive for a long-term and stable developmen...</td>\n",
       "      <td>● si prizadevajo za dolgoročno in stabilno raz...</td>\n",
       "      <td>● usilovat o dlouhodobý a stabilní rozvoj v př...</td>\n",
       "    </tr>\n",
       "    <tr>\n",
       "      <th>222056</th>\n",
       "      <td>♥ Adjusts to your playing style, perfect for B...</td>\n",
       "      <td>♥ Nastavi na vaše igranje slog, kot nalašč za ...</td>\n",
       "      <td>♥ Přizpůsobí se vašemu stylu hry, ideální pro ...</td>\n",
       "    </tr>\n",
       "    <tr>\n",
       "      <th>222057</th>\n",
       "      <td>♥ Sophisticated algorithms that analyze your c...</td>\n",
       "      <td>♥ Zahtevnejši algoritmi, ki analizira vaše kar...</td>\n",
       "      <td>♥ Sofistikované algoritmy, které analyzují své...</td>\n",
       "    </tr>\n",
       "  </tbody>\n",
       "</table>\n",
       "<p>222058 rows × 3 columns</p>\n",
       "</div>"
      ],
      "text/plain": [
       "                                                  English  \\\n",
       "0       Animation allows the skyderen gradually change...   \n",
       "1                               ! Na for public exposure.   \n",
       "2       !{Star Trek} medals are used to unlock future ...   \n",
       "3       \" Egyptian mummies were made as \"\" built like ...   \n",
       "4       \" Enablers\" , i.e. the basic building blocks w...   \n",
       "...                                                   ...   \n",
       "222053  ● promote diversity and increased integration ...   \n",
       "222054  ● promote greater understanding between the di...   \n",
       "222055  ● strive for a long-term and stable developmen...   \n",
       "222056  ♥ Adjusts to your playing style, perfect for B...   \n",
       "222057  ♥ Sophisticated algorithms that analyze your c...   \n",
       "\n",
       "                                                Slovenian  \\\n",
       "0       Animacija omogoča Drsnik postopoma spreminja v...   \n",
       "1                             ! Na javno izpostavljenost.   \n",
       "2       Medalje Star Trek se uporabljajo za odklep bod...   \n",
       "3       \" Egipčanske mumije so bile narejene kot \"\" zg...   \n",
       "4       „potencial“ : temeljni gradniki, ki omogočajo ...   \n",
       "...                                                   ...   \n",
       "222053  ● spodbujanje raznolikosti in večje področje i...   \n",
       "222054  ● spodbujanje boljšega razumevanja med okrožni...   \n",
       "222055  ● si prizadevajo za dolgoročno in stabilno raz...   \n",
       "222056  ♥ Nastavi na vaše igranje slog, kot nalašč za ...   \n",
       "222057  ♥ Zahtevnejši algoritmi, ki analizira vaše kar...   \n",
       "\n",
       "                                                    Czech  \n",
       "0       Animace umožňuje Posuvník se postupně mění hod...  \n",
       "1                                 ! Na veřejné vystavení.  \n",
       "2       Medaile Star Trek se používají k otevření dalš...  \n",
       "3       \" Egyptských mumií byly jako \"\" postavený jako...  \n",
       "4       „ Předpoklady “, tj. základní stavební kameny,...  \n",
       "...                                                   ...  \n",
       "222053  ● podporovat rozmanitost a větší integrace plo...  \n",
       "222054  ● podporovat větší porozumění mezi okresních s...  \n",
       "222055  ● usilovat o dlouhodobý a stabilní rozvoj v př...  \n",
       "222056  ♥ Přizpůsobí se vašemu stylu hry, ideální pro ...  \n",
       "222057  ♥ Sofistikované algoritmy, které analyzují své...  \n",
       "\n",
       "[222058 rows x 3 columns]"
      ]
     },
     "execution_count": 50,
     "metadata": {},
     "output_type": "execute_result"
    }
   ],
   "source": [
    "# Merge the CZ-EN and SL-EN datasets based on the value of the English column\n",
    "df_cz_sl_en = df_sl_en.merge(df_cz_en, on=\"English\", how=\"inner\")\n",
    "df_cz_sl_en"
   ]
  },
  {
   "cell_type": "markdown",
   "id": "8b036a44",
   "metadata": {},
   "source": [
    "Now, when we have the similar sentences from the CZ-EN and SL-EN datasets (222058), we can use the new dataset we created, which contains the languages SL-CZ-EN, in order to find the similar sentences with the DE-EN dataset and create the multilingual dataset."
   ]
  },
  {
   "cell_type": "code",
   "execution_count": 52,
   "id": "b4669a58",
   "metadata": {
    "scrolled": true
   },
   "outputs": [
    {
     "data": {
      "text/html": [
       "<div>\n",
       "<style scoped>\n",
       "    .dataframe tbody tr th:only-of-type {\n",
       "        vertical-align: middle;\n",
       "    }\n",
       "\n",
       "    .dataframe tbody tr th {\n",
       "        vertical-align: top;\n",
       "    }\n",
       "\n",
       "    .dataframe thead th {\n",
       "        text-align: right;\n",
       "    }\n",
       "</style>\n",
       "<table border=\"1\" class=\"dataframe\">\n",
       "  <thead>\n",
       "    <tr style=\"text-align: right;\">\n",
       "      <th></th>\n",
       "      <th>German</th>\n",
       "      <th>English</th>\n",
       "      <th>Slovenian</th>\n",
       "      <th>Czech</th>\n",
       "    </tr>\n",
       "  </thead>\n",
       "  <tbody>\n",
       "    <tr>\n",
       "      <th>0</th>\n",
       "      <td>Sie können das Tool von dieser Anleitung einsc...</td>\n",
       "      <td>You can download the tool from this guide incl...</td>\n",
       "      <td>Lahko prenesete orodje iz tega priročnika, vkl...</td>\n",
       "      <td>Zde si můžete stáhnout nástroj z této příručky...</td>\n",
       "    </tr>\n",
       "    <tr>\n",
       "      <th>1</th>\n",
       "      <td>! Na für die Exposition der Bevölkerung.</td>\n",
       "      <td>! Na for public exposure.</td>\n",
       "      <td>! Na javno izpostavljenost.</td>\n",
       "      <td>! Na veřejné vystavení.</td>\n",
       "    </tr>\n",
       "    <tr>\n",
       "      <th>2</th>\n",
       "      <td>Mit Star Trek-Medaillen lassen sich zukünftige...</td>\n",
       "      <td>!{Star Trek} medals are used to unlock future ...</td>\n",
       "      <td>Medalje Star Trek se uporabljajo za odklep bod...</td>\n",
       "      <td>Medaile Star Trek se používají k otevření dalš...</td>\n",
       "    </tr>\n",
       "    <tr>\n",
       "      <th>3</th>\n",
       "      <td>\" Ägyptischen Mumien wurden gemacht \"\" gebaut ...</td>\n",
       "      <td>\" Egyptian mummies were made as \"\" built like ...</td>\n",
       "      <td>\" Egipčanske mumije so bile narejene kot \"\" zg...</td>\n",
       "      <td>\" Egyptských mumií byly jako \"\" postavený jako...</td>\n",
       "    </tr>\n",
       "    <tr>\n",
       "      <th>4</th>\n",
       "      <td>„ Grundlagen“: grundlegende Bausteine zur Förd...</td>\n",
       "      <td>\" Enablers\" , i.e. the basic building blocks w...</td>\n",
       "      <td>„potencial“ : temeljni gradniki, ki omogočajo ...</td>\n",
       "      <td>„ Předpoklady “, tj. základní stavební kameny,...</td>\n",
       "    </tr>\n",
       "    <tr>\n",
       "      <th>...</th>\n",
       "      <td>...</td>\n",
       "      <td>...</td>\n",
       "      <td>...</td>\n",
       "      <td>...</td>\n",
       "    </tr>\n",
       "    <tr>\n",
       "      <th>239503</th>\n",
       "      <td>► Was enthält der Speicher \"Andere\" tatsächlich?</td>\n",
       "      <td>► What's actually included in \"other\" storage?</td>\n",
       "      <td>► Kaj pravzaprav vsebuje kategorija »drugo«?</td>\n",
       "      <td>► Co vlastně spadá do úložiště s názvem „další“?</td>\n",
       "    </tr>\n",
       "    <tr>\n",
       "      <th>239504</th>\n",
       "      <td>● Es gibt einfach zu bedienen und umweltfreund...</td>\n",
       "      <td>● Are user and environmentally friendly and ea...</td>\n",
       "      <td>● Enostavno za čiščenje in storitev</td>\n",
       "      <td>snadné použití a šetrné k životnímu prostředí</td>\n",
       "    </tr>\n",
       "    <tr>\n",
       "      <th>239505</th>\n",
       "      <td>● Es gibt einfach zu bedienen und umweltfreund...</td>\n",
       "      <td>● Are user and environmentally friendly and ea...</td>\n",
       "      <td>● Enostavno za čiščenje in storitev</td>\n",
       "      <td>● K dispozici jsou snadné použití a šetrné k ž...</td>\n",
       "    </tr>\n",
       "    <tr>\n",
       "      <th>239506</th>\n",
       "      <td>♥ Passt sich Ihrem Spielstil, ideal für Anfäng...</td>\n",
       "      <td>♥ Adjusts to your playing style, perfect for B...</td>\n",
       "      <td>♥ Nastavi na vaše igranje slog, kot nalašč za ...</td>\n",
       "      <td>♥ Přizpůsobí se vašemu stylu hry, ideální pro ...</td>\n",
       "    </tr>\n",
       "    <tr>\n",
       "      <th>239507</th>\n",
       "      <td>♥ Ausgefeilte Algorithmen, die Ihre Karten zu ...</td>\n",
       "      <td>♥ Sophisticated algorithms that analyze your c...</td>\n",
       "      <td>♥ Zahtevnejši algoritmi, ki analizira vaše kar...</td>\n",
       "      <td>♥ Sofistikované algoritmy, které analyzují své...</td>\n",
       "    </tr>\n",
       "  </tbody>\n",
       "</table>\n",
       "<p>239508 rows × 4 columns</p>\n",
       "</div>"
      ],
      "text/plain": [
       "                                                   German  \\\n",
       "0       Sie können das Tool von dieser Anleitung einsc...   \n",
       "1                ! Na für die Exposition der Bevölkerung.   \n",
       "2       Mit Star Trek-Medaillen lassen sich zukünftige...   \n",
       "3       \" Ägyptischen Mumien wurden gemacht \"\" gebaut ...   \n",
       "4       „ Grundlagen“: grundlegende Bausteine zur Förd...   \n",
       "...                                                   ...   \n",
       "239503   ► Was enthält der Speicher \"Andere\" tatsächlich?   \n",
       "239504  ● Es gibt einfach zu bedienen und umweltfreund...   \n",
       "239505  ● Es gibt einfach zu bedienen und umweltfreund...   \n",
       "239506  ♥ Passt sich Ihrem Spielstil, ideal für Anfäng...   \n",
       "239507  ♥ Ausgefeilte Algorithmen, die Ihre Karten zu ...   \n",
       "\n",
       "                                                  English  \\\n",
       "0       You can download the tool from this guide incl...   \n",
       "1                               ! Na for public exposure.   \n",
       "2       !{Star Trek} medals are used to unlock future ...   \n",
       "3       \" Egyptian mummies were made as \"\" built like ...   \n",
       "4       \" Enablers\" , i.e. the basic building blocks w...   \n",
       "...                                                   ...   \n",
       "239503     ► What's actually included in \"other\" storage?   \n",
       "239504  ● Are user and environmentally friendly and ea...   \n",
       "239505  ● Are user and environmentally friendly and ea...   \n",
       "239506  ♥ Adjusts to your playing style, perfect for B...   \n",
       "239507  ♥ Sophisticated algorithms that analyze your c...   \n",
       "\n",
       "                                                Slovenian  \\\n",
       "0       Lahko prenesete orodje iz tega priročnika, vkl...   \n",
       "1                             ! Na javno izpostavljenost.   \n",
       "2       Medalje Star Trek se uporabljajo za odklep bod...   \n",
       "3       \" Egipčanske mumije so bile narejene kot \"\" zg...   \n",
       "4       „potencial“ : temeljni gradniki, ki omogočajo ...   \n",
       "...                                                   ...   \n",
       "239503       ► Kaj pravzaprav vsebuje kategorija »drugo«?   \n",
       "239504                ● Enostavno za čiščenje in storitev   \n",
       "239505                ● Enostavno za čiščenje in storitev   \n",
       "239506  ♥ Nastavi na vaše igranje slog, kot nalašč za ...   \n",
       "239507  ♥ Zahtevnejši algoritmi, ki analizira vaše kar...   \n",
       "\n",
       "                                                    Czech  \n",
       "0       Zde si můžete stáhnout nástroj z této příručky...  \n",
       "1                                 ! Na veřejné vystavení.  \n",
       "2       Medaile Star Trek se používají k otevření dalš...  \n",
       "3       \" Egyptských mumií byly jako \"\" postavený jako...  \n",
       "4       „ Předpoklady “, tj. základní stavební kameny,...  \n",
       "...                                                   ...  \n",
       "239503   ► Co vlastně spadá do úložiště s názvem „další“?  \n",
       "239504      snadné použití a šetrné k životnímu prostředí  \n",
       "239505  ● K dispozici jsou snadné použití a šetrné k ž...  \n",
       "239506  ♥ Přizpůsobí se vašemu stylu hry, ideální pro ...  \n",
       "239507  ♥ Sofistikované algoritmy, které analyzují své...  \n",
       "\n",
       "[239508 rows x 4 columns]"
      ]
     },
     "execution_count": 52,
     "metadata": {},
     "output_type": "execute_result"
    }
   ],
   "source": [
    "# Merge the SL-CZ-EN and DE-EN datasets based on the value of the English column\n",
    "df_multilingual = df_de_en.merge(df_cz_sl_en, on=\"English\", how=\"inner\")\n",
    "df_multilingual"
   ]
  },
  {
   "cell_type": "markdown",
   "id": "4498dce5",
   "metadata": {},
   "source": [
    "We see that we have a total of 239,508 sentences, which are translated to all 4 languages. This size of this data is big enough to be used as one big multilingual dataset."
   ]
  },
  {
   "cell_type": "code",
   "execution_count": 53,
   "id": "7a4afa53",
   "metadata": {},
   "outputs": [],
   "source": [
    "# Extract the multilingual dataset as a csv file\n",
    "df_multilingual.to_csv('data/multilingual.csv', index=False)"
   ]
  },
  {
   "cell_type": "code",
   "execution_count": 57,
   "id": "302d9da1",
   "metadata": {},
   "outputs": [
    {
     "name": "stdout",
     "output_type": "stream",
     "text": [
      "The size of the DE-EN dataset was reduced from 16264358 to 239508\n"
     ]
    },
    {
     "data": {
      "text/html": [
       "<div>\n",
       "<style scoped>\n",
       "    .dataframe tbody tr th:only-of-type {\n",
       "        vertical-align: middle;\n",
       "    }\n",
       "\n",
       "    .dataframe tbody tr th {\n",
       "        vertical-align: top;\n",
       "    }\n",
       "\n",
       "    .dataframe thead th {\n",
       "        text-align: right;\n",
       "    }\n",
       "</style>\n",
       "<table border=\"1\" class=\"dataframe\">\n",
       "  <thead>\n",
       "    <tr style=\"text-align: right;\">\n",
       "      <th></th>\n",
       "      <th>English</th>\n",
       "      <th>German</th>\n",
       "    </tr>\n",
       "  </thead>\n",
       "  <tbody>\n",
       "    <tr>\n",
       "      <th>0</th>\n",
       "      <td>You can download the tool from this guide incl...</td>\n",
       "      <td>Sie können das Tool von dieser Anleitung einsc...</td>\n",
       "    </tr>\n",
       "    <tr>\n",
       "      <th>1</th>\n",
       "      <td>! Na for public exposure.</td>\n",
       "      <td>! Na für die Exposition der Bevölkerung.</td>\n",
       "    </tr>\n",
       "    <tr>\n",
       "      <th>2</th>\n",
       "      <td>!{Star Trek} medals are used to unlock future ...</td>\n",
       "      <td>Mit Star Trek-Medaillen lassen sich zukünftige...</td>\n",
       "    </tr>\n",
       "    <tr>\n",
       "      <th>3</th>\n",
       "      <td>\" Egyptian mummies were made as \"\" built like ...</td>\n",
       "      <td>\" Ägyptischen Mumien wurden gemacht \"\" gebaut ...</td>\n",
       "    </tr>\n",
       "    <tr>\n",
       "      <th>4</th>\n",
       "      <td>\" Enablers\" , i.e. the basic building blocks w...</td>\n",
       "      <td>„ Grundlagen“: grundlegende Bausteine zur Förd...</td>\n",
       "    </tr>\n",
       "  </tbody>\n",
       "</table>\n",
       "</div>"
      ],
      "text/plain": [
       "                                             English  \\\n",
       "0  You can download the tool from this guide incl...   \n",
       "1                          ! Na for public exposure.   \n",
       "2  !{Star Trek} medals are used to unlock future ...   \n",
       "3  \" Egyptian mummies were made as \"\" built like ...   \n",
       "4  \" Enablers\" , i.e. the basic building blocks w...   \n",
       "\n",
       "                                              German  \n",
       "0  Sie können das Tool von dieser Anleitung einsc...  \n",
       "1           ! Na für die Exposition der Bevölkerung.  \n",
       "2  Mit Star Trek-Medaillen lassen sich zukünftige...  \n",
       "3  \" Ägyptischen Mumien wurden gemacht \"\" gebaut ...  \n",
       "4  „ Grundlagen“: grundlegende Bausteine zur Förd...  "
      ]
     },
     "execution_count": 57,
     "metadata": {},
     "output_type": "execute_result"
    }
   ],
   "source": [
    "# Generate new DE-EN dataset from the multilingual dataset\n",
    "df_de_en_new = df_multilingual[['English', 'German']]\n",
    "print(f\"The size of the DE-EN dataset was reduced from {len(df_de_en)} to {len(df_de_en_new)}\")\n",
    "df_de_en_new.head()"
   ]
  },
  {
   "cell_type": "code",
   "execution_count": 58,
   "id": "a61b945a",
   "metadata": {},
   "outputs": [
    {
     "name": "stdout",
     "output_type": "stream",
     "text": [
      "The size of the CZ-EN dataset was reduced from 2981937 to 239508\n"
     ]
    },
    {
     "data": {
      "text/html": [
       "<div>\n",
       "<style scoped>\n",
       "    .dataframe tbody tr th:only-of-type {\n",
       "        vertical-align: middle;\n",
       "    }\n",
       "\n",
       "    .dataframe tbody tr th {\n",
       "        vertical-align: top;\n",
       "    }\n",
       "\n",
       "    .dataframe thead th {\n",
       "        text-align: right;\n",
       "    }\n",
       "</style>\n",
       "<table border=\"1\" class=\"dataframe\">\n",
       "  <thead>\n",
       "    <tr style=\"text-align: right;\">\n",
       "      <th></th>\n",
       "      <th>English</th>\n",
       "      <th>Czech</th>\n",
       "    </tr>\n",
       "  </thead>\n",
       "  <tbody>\n",
       "    <tr>\n",
       "      <th>0</th>\n",
       "      <td>You can download the tool from this guide incl...</td>\n",
       "      <td>Zde si můžete stáhnout nástroj z této příručky...</td>\n",
       "    </tr>\n",
       "    <tr>\n",
       "      <th>1</th>\n",
       "      <td>! Na for public exposure.</td>\n",
       "      <td>! Na veřejné vystavení.</td>\n",
       "    </tr>\n",
       "    <tr>\n",
       "      <th>2</th>\n",
       "      <td>!{Star Trek} medals are used to unlock future ...</td>\n",
       "      <td>Medaile Star Trek se používají k otevření dalš...</td>\n",
       "    </tr>\n",
       "    <tr>\n",
       "      <th>3</th>\n",
       "      <td>\" Egyptian mummies were made as \"\" built like ...</td>\n",
       "      <td>\" Egyptských mumií byly jako \"\" postavený jako...</td>\n",
       "    </tr>\n",
       "    <tr>\n",
       "      <th>4</th>\n",
       "      <td>\" Enablers\" , i.e. the basic building blocks w...</td>\n",
       "      <td>„ Předpoklady “, tj. základní stavební kameny,...</td>\n",
       "    </tr>\n",
       "  </tbody>\n",
       "</table>\n",
       "</div>"
      ],
      "text/plain": [
       "                                             English  \\\n",
       "0  You can download the tool from this guide incl...   \n",
       "1                          ! Na for public exposure.   \n",
       "2  !{Star Trek} medals are used to unlock future ...   \n",
       "3  \" Egyptian mummies were made as \"\" built like ...   \n",
       "4  \" Enablers\" , i.e. the basic building blocks w...   \n",
       "\n",
       "                                               Czech  \n",
       "0  Zde si můžete stáhnout nástroj z této příručky...  \n",
       "1                            ! Na veřejné vystavení.  \n",
       "2  Medaile Star Trek se používají k otevření dalš...  \n",
       "3  \" Egyptských mumií byly jako \"\" postavený jako...  \n",
       "4  „ Předpoklady “, tj. základní stavební kameny,...  "
      ]
     },
     "execution_count": 58,
     "metadata": {},
     "output_type": "execute_result"
    }
   ],
   "source": [
    "# Generate new CZ-EN datasets from the multilingual dataset\n",
    "df_cz_en_new = df_multilingual[['English', 'Czech']]\n",
    "print(f\"The size of the CZ-EN dataset was reduced from {len(df_cz_en)} to {len(df_cz_en_new)}\")\n",
    "df_cz_en_new.head()"
   ]
  },
  {
   "cell_type": "code",
   "execution_count": 59,
   "id": "abe5787a",
   "metadata": {
    "scrolled": true
   },
   "outputs": [
    {
     "name": "stdout",
     "output_type": "stream",
     "text": [
      "The size of the SL-EN dataset was reduced from 660145 to 239508\n"
     ]
    },
    {
     "data": {
      "text/html": [
       "<div>\n",
       "<style scoped>\n",
       "    .dataframe tbody tr th:only-of-type {\n",
       "        vertical-align: middle;\n",
       "    }\n",
       "\n",
       "    .dataframe tbody tr th {\n",
       "        vertical-align: top;\n",
       "    }\n",
       "\n",
       "    .dataframe thead th {\n",
       "        text-align: right;\n",
       "    }\n",
       "</style>\n",
       "<table border=\"1\" class=\"dataframe\">\n",
       "  <thead>\n",
       "    <tr style=\"text-align: right;\">\n",
       "      <th></th>\n",
       "      <th>English</th>\n",
       "      <th>Slovenian</th>\n",
       "    </tr>\n",
       "  </thead>\n",
       "  <tbody>\n",
       "    <tr>\n",
       "      <th>0</th>\n",
       "      <td>You can download the tool from this guide incl...</td>\n",
       "      <td>Lahko prenesete orodje iz tega priročnika, vkl...</td>\n",
       "    </tr>\n",
       "    <tr>\n",
       "      <th>1</th>\n",
       "      <td>! Na for public exposure.</td>\n",
       "      <td>! Na javno izpostavljenost.</td>\n",
       "    </tr>\n",
       "    <tr>\n",
       "      <th>2</th>\n",
       "      <td>!{Star Trek} medals are used to unlock future ...</td>\n",
       "      <td>Medalje Star Trek se uporabljajo za odklep bod...</td>\n",
       "    </tr>\n",
       "    <tr>\n",
       "      <th>3</th>\n",
       "      <td>\" Egyptian mummies were made as \"\" built like ...</td>\n",
       "      <td>\" Egipčanske mumije so bile narejene kot \"\" zg...</td>\n",
       "    </tr>\n",
       "    <tr>\n",
       "      <th>4</th>\n",
       "      <td>\" Enablers\" , i.e. the basic building blocks w...</td>\n",
       "      <td>„potencial“ : temeljni gradniki, ki omogočajo ...</td>\n",
       "    </tr>\n",
       "  </tbody>\n",
       "</table>\n",
       "</div>"
      ],
      "text/plain": [
       "                                             English  \\\n",
       "0  You can download the tool from this guide incl...   \n",
       "1                          ! Na for public exposure.   \n",
       "2  !{Star Trek} medals are used to unlock future ...   \n",
       "3  \" Egyptian mummies were made as \"\" built like ...   \n",
       "4  \" Enablers\" , i.e. the basic building blocks w...   \n",
       "\n",
       "                                           Slovenian  \n",
       "0  Lahko prenesete orodje iz tega priročnika, vkl...  \n",
       "1                        ! Na javno izpostavljenost.  \n",
       "2  Medalje Star Trek se uporabljajo za odklep bod...  \n",
       "3  \" Egipčanske mumije so bile narejene kot \"\" zg...  \n",
       "4  „potencial“ : temeljni gradniki, ki omogočajo ...  "
      ]
     },
     "execution_count": 59,
     "metadata": {},
     "output_type": "execute_result"
    }
   ],
   "source": [
    "# Generate new SL-EN datasets from the multilingual dataset\n",
    "df_sl_en_new = df_multilingual[['English', 'Slovenian']]\n",
    "print(f\"The size of the SL-EN dataset was reduced from {len(df_sl_en)} to {len(df_sl_en_new)}\")\n",
    "df_sl_en_new.head()"
   ]
  },
  {
   "cell_type": "code",
   "execution_count": 60,
   "id": "a716a6d6",
   "metadata": {},
   "outputs": [],
   "source": [
    "# Extract the new CZ-EN dataset as a csv file\n",
    "df_cz_en_new.to_csv('data/cz_en_resized.csv', index=False)"
   ]
  },
  {
   "cell_type": "code",
   "execution_count": 61,
   "id": "49b5581a",
   "metadata": {},
   "outputs": [],
   "source": [
    "# Extract the new SL-EN dataset as a csv file\n",
    "df_sl_en_new.to_csv('data/sl_en_resized.csv', index=False)"
   ]
  },
  {
   "cell_type": "code",
   "execution_count": 62,
   "id": "e123a22d",
   "metadata": {},
   "outputs": [],
   "source": [
    "# Extract the new DE-EN dataset as a csv file\n",
    "df_de_en_new.to_csv('data/de_en_resized.csv', index=False)"
   ]
  },
  {
   "cell_type": "markdown",
   "id": "8012f19f",
   "metadata": {},
   "source": [
    "### 2. Filtering of the data\n",
    "\n",
    "Now, when we have the multilingual dataset and the new resized singlelingual datasets, we can filter the data and prepare it for preprocessing by choosing:\n",
    "* **Filtering based on duplicates** - Filter out sentences that are duplicated.\n",
    "* **Filtering based on length** - filter out sentences, which may be too short or too long for paraphrasing."
   ]
  },
  {
   "cell_type": "markdown",
   "id": "433d944e",
   "metadata": {},
   "source": [
    "#### 2.1. Filtering the multilingual dataset\n",
    "\n",
    "First we will start by filtering the sentences from the multilingual dataset."
   ]
  },
  {
   "cell_type": "code",
   "execution_count": 94,
   "id": "bae0a458",
   "metadata": {},
   "outputs": [],
   "source": [
    "# Configurations\n",
    "import pandas as pd\n",
    "from langdetect import detect # conda install -c conda-forge langdetect\n",
    "from alive_progress import alive_bar # conda install -c conda-forge alive-progress\n",
    "from nltk.tokenize import RegexpTokenizer"
   ]
  },
  {
   "cell_type": "code",
   "execution_count": 74,
   "id": "23891d35",
   "metadata": {},
   "outputs": [
    {
     "data": {
      "text/html": [
       "<div>\n",
       "<style scoped>\n",
       "    .dataframe tbody tr th:only-of-type {\n",
       "        vertical-align: middle;\n",
       "    }\n",
       "\n",
       "    .dataframe tbody tr th {\n",
       "        vertical-align: top;\n",
       "    }\n",
       "\n",
       "    .dataframe thead th {\n",
       "        text-align: right;\n",
       "    }\n",
       "</style>\n",
       "<table border=\"1\" class=\"dataframe\">\n",
       "  <thead>\n",
       "    <tr style=\"text-align: right;\">\n",
       "      <th></th>\n",
       "      <th>German</th>\n",
       "      <th>English</th>\n",
       "      <th>Slovenian</th>\n",
       "      <th>Czech</th>\n",
       "    </tr>\n",
       "  </thead>\n",
       "  <tbody>\n",
       "    <tr>\n",
       "      <th>0</th>\n",
       "      <td>Sie können das Tool von dieser Anleitung einsc...</td>\n",
       "      <td>You can download the tool from this guide incl...</td>\n",
       "      <td>Lahko prenesete orodje iz tega priročnika, vkl...</td>\n",
       "      <td>Zde si můžete stáhnout nástroj z této příručky...</td>\n",
       "    </tr>\n",
       "    <tr>\n",
       "      <th>1</th>\n",
       "      <td>! Na für die Exposition der Bevölkerung.</td>\n",
       "      <td>! Na for public exposure.</td>\n",
       "      <td>! Na javno izpostavljenost.</td>\n",
       "      <td>! Na veřejné vystavení.</td>\n",
       "    </tr>\n",
       "    <tr>\n",
       "      <th>2</th>\n",
       "      <td>Mit Star Trek-Medaillen lassen sich zukünftige...</td>\n",
       "      <td>!{Star Trek} medals are used to unlock future ...</td>\n",
       "      <td>Medalje Star Trek se uporabljajo za odklep bod...</td>\n",
       "      <td>Medaile Star Trek se používají k otevření dalš...</td>\n",
       "    </tr>\n",
       "    <tr>\n",
       "      <th>3</th>\n",
       "      <td>\" Ägyptischen Mumien wurden gemacht \"\" gebaut ...</td>\n",
       "      <td>\" Egyptian mummies were made as \"\" built like ...</td>\n",
       "      <td>\" Egipčanske mumije so bile narejene kot \"\" zg...</td>\n",
       "      <td>\" Egyptských mumií byly jako \"\" postavený jako...</td>\n",
       "    </tr>\n",
       "    <tr>\n",
       "      <th>4</th>\n",
       "      <td>„ Grundlagen“: grundlegende Bausteine zur Förd...</td>\n",
       "      <td>\" Enablers\" , i.e. the basic building blocks w...</td>\n",
       "      <td>„potencial“ : temeljni gradniki, ki omogočajo ...</td>\n",
       "      <td>„ Předpoklady “, tj. základní stavební kameny,...</td>\n",
       "    </tr>\n",
       "  </tbody>\n",
       "</table>\n",
       "</div>"
      ],
      "text/plain": [
       "                                              German  \\\n",
       "0  Sie können das Tool von dieser Anleitung einsc...   \n",
       "1           ! Na für die Exposition der Bevölkerung.   \n",
       "2  Mit Star Trek-Medaillen lassen sich zukünftige...   \n",
       "3  \" Ägyptischen Mumien wurden gemacht \"\" gebaut ...   \n",
       "4  „ Grundlagen“: grundlegende Bausteine zur Förd...   \n",
       "\n",
       "                                             English  \\\n",
       "0  You can download the tool from this guide incl...   \n",
       "1                          ! Na for public exposure.   \n",
       "2  !{Star Trek} medals are used to unlock future ...   \n",
       "3  \" Egyptian mummies were made as \"\" built like ...   \n",
       "4  \" Enablers\" , i.e. the basic building blocks w...   \n",
       "\n",
       "                                           Slovenian  \\\n",
       "0  Lahko prenesete orodje iz tega priročnika, vkl...   \n",
       "1                        ! Na javno izpostavljenost.   \n",
       "2  Medalje Star Trek se uporabljajo za odklep bod...   \n",
       "3  \" Egipčanske mumije so bile narejene kot \"\" zg...   \n",
       "4  „potencial“ : temeljni gradniki, ki omogočajo ...   \n",
       "\n",
       "                                               Czech  \n",
       "0  Zde si můžete stáhnout nástroj z této příručky...  \n",
       "1                            ! Na veřejné vystavení.  \n",
       "2  Medaile Star Trek se používají k otevření dalš...  \n",
       "3  \" Egyptských mumií byly jako \"\" postavený jako...  \n",
       "4  „ Předpoklady “, tj. základní stavební kameny,...  "
      ]
     },
     "execution_count": 74,
     "metadata": {},
     "output_type": "execute_result"
    }
   ],
   "source": [
    "# Load the multilingual dataset\n",
    "df_multilingual = pd.read_csv(\"data/multilingual.csv\")\n",
    "df_multilingual.head()"
   ]
  },
  {
   "cell_type": "markdown",
   "id": "bd954a5b",
   "metadata": {},
   "source": [
    "Lets start by filtering out the **duplicates** from the multilingual dataset for each language, since we will later create also singlelingual datasets from the multilingual."
   ]
  },
  {
   "cell_type": "code",
   "execution_count": 75,
   "id": "e1015668",
   "metadata": {},
   "outputs": [
    {
     "name": "stdout",
     "output_type": "stream",
     "text": [
      "Old size: 239508\n",
      "English duplicates removed: 103115\n",
      "Slovenian duplicates removed: 101669\n",
      "Czech duplicates removed: 101143\n",
      "German duplicates removed (New size): 100744\n"
     ]
    }
   ],
   "source": [
    "# Filter out duplicates from the multilingual dataset\n",
    "print(f\"Old size: {len(df_multilingual)}\")\n",
    "df_multilingual.drop_duplicates(subset=['English'], inplace=True)\n",
    "print(f\"English duplicates removed: {len(df_multilingual)}\")\n",
    "df_multilingual.drop_duplicates(subset=['Slovenian'], inplace=True)\n",
    "print(f\"Slovenian duplicates removed: {len(df_multilingual)}\")\n",
    "df_multilingual.drop_duplicates(subset=['Czech'], inplace=True)\n",
    "print(f\"Czech duplicates removed: {len(df_multilingual)}\")\n",
    "df_multilingual.drop_duplicates(subset=['German'], inplace=True)\n",
    "print(f\"German duplicates removed (New size): {len(df_multilingual)}\")"
   ]
  },
  {
   "cell_type": "code",
   "execution_count": 76,
   "id": "c08009f2",
   "metadata": {},
   "outputs": [
    {
     "data": {
      "text/html": [
       "<div>\n",
       "<style scoped>\n",
       "    .dataframe tbody tr th:only-of-type {\n",
       "        vertical-align: middle;\n",
       "    }\n",
       "\n",
       "    .dataframe tbody tr th {\n",
       "        vertical-align: top;\n",
       "    }\n",
       "\n",
       "    .dataframe thead th {\n",
       "        text-align: right;\n",
       "    }\n",
       "</style>\n",
       "<table border=\"1\" class=\"dataframe\">\n",
       "  <thead>\n",
       "    <tr style=\"text-align: right;\">\n",
       "      <th></th>\n",
       "      <th>German</th>\n",
       "      <th>English</th>\n",
       "      <th>Slovenian</th>\n",
       "      <th>Czech</th>\n",
       "    </tr>\n",
       "  </thead>\n",
       "  <tbody>\n",
       "    <tr>\n",
       "      <th>0</th>\n",
       "      <td>Sie können das Tool von dieser Anleitung einsc...</td>\n",
       "      <td>You can download the tool from this guide incl...</td>\n",
       "      <td>Lahko prenesete orodje iz tega priročnika, vkl...</td>\n",
       "      <td>Zde si můžete stáhnout nástroj z této příručky...</td>\n",
       "    </tr>\n",
       "    <tr>\n",
       "      <th>1</th>\n",
       "      <td>! Na für die Exposition der Bevölkerung.</td>\n",
       "      <td>! Na for public exposure.</td>\n",
       "      <td>! Na javno izpostavljenost.</td>\n",
       "      <td>! Na veřejné vystavení.</td>\n",
       "    </tr>\n",
       "    <tr>\n",
       "      <th>2</th>\n",
       "      <td>Mit Star Trek-Medaillen lassen sich zukünftige...</td>\n",
       "      <td>!{Star Trek} medals are used to unlock future ...</td>\n",
       "      <td>Medalje Star Trek se uporabljajo za odklep bod...</td>\n",
       "      <td>Medaile Star Trek se používají k otevření dalš...</td>\n",
       "    </tr>\n",
       "    <tr>\n",
       "      <th>3</th>\n",
       "      <td>\" Ägyptischen Mumien wurden gemacht \"\" gebaut ...</td>\n",
       "      <td>\" Egyptian mummies were made as \"\" built like ...</td>\n",
       "      <td>\" Egipčanske mumije so bile narejene kot \"\" zg...</td>\n",
       "      <td>\" Egyptských mumií byly jako \"\" postavený jako...</td>\n",
       "    </tr>\n",
       "    <tr>\n",
       "      <th>4</th>\n",
       "      <td>„ Grundlagen“: grundlegende Bausteine zur Förd...</td>\n",
       "      <td>\" Enablers\" , i.e. the basic building blocks w...</td>\n",
       "      <td>„potencial“ : temeljni gradniki, ki omogočajo ...</td>\n",
       "      <td>„ Předpoklady “, tj. základní stavební kameny,...</td>\n",
       "    </tr>\n",
       "    <tr>\n",
       "      <th>...</th>\n",
       "      <td>...</td>\n",
       "      <td>...</td>\n",
       "      <td>...</td>\n",
       "      <td>...</td>\n",
       "    </tr>\n",
       "    <tr>\n",
       "      <th>239502</th>\n",
       "      <td>► Ich habe alle oben genannten Daten, die auf ...</td>\n",
       "      <td>► I've deleted all the stuff you named above t...</td>\n",
       "      <td>► Iz telefona sem izbrisal vse vsebine, ki ste...</td>\n",
       "      <td>► Odstranil(a) jsem všechny výše uvedené polož...</td>\n",
       "    </tr>\n",
       "    <tr>\n",
       "      <th>239503</th>\n",
       "      <td>► Was enthält der Speicher \"Andere\" tatsächlich?</td>\n",
       "      <td>► What's actually included in \"other\" storage?</td>\n",
       "      <td>► Kaj pravzaprav vsebuje kategorija »drugo«?</td>\n",
       "      <td>► Co vlastně spadá do úložiště s názvem „další“?</td>\n",
       "    </tr>\n",
       "    <tr>\n",
       "      <th>239504</th>\n",
       "      <td>● Es gibt einfach zu bedienen und umweltfreund...</td>\n",
       "      <td>● Are user and environmentally friendly and ea...</td>\n",
       "      <td>● Enostavno za čiščenje in storitev</td>\n",
       "      <td>snadné použití a šetrné k životnímu prostředí</td>\n",
       "    </tr>\n",
       "    <tr>\n",
       "      <th>239506</th>\n",
       "      <td>♥ Passt sich Ihrem Spielstil, ideal für Anfäng...</td>\n",
       "      <td>♥ Adjusts to your playing style, perfect for B...</td>\n",
       "      <td>♥ Nastavi na vaše igranje slog, kot nalašč za ...</td>\n",
       "      <td>♥ Přizpůsobí se vašemu stylu hry, ideální pro ...</td>\n",
       "    </tr>\n",
       "    <tr>\n",
       "      <th>239507</th>\n",
       "      <td>♥ Ausgefeilte Algorithmen, die Ihre Karten zu ...</td>\n",
       "      <td>♥ Sophisticated algorithms that analyze your c...</td>\n",
       "      <td>♥ Zahtevnejši algoritmi, ki analizira vaše kar...</td>\n",
       "      <td>♥ Sofistikované algoritmy, které analyzují své...</td>\n",
       "    </tr>\n",
       "  </tbody>\n",
       "</table>\n",
       "<p>100744 rows × 4 columns</p>\n",
       "</div>"
      ],
      "text/plain": [
       "                                                   German  \\\n",
       "0       Sie können das Tool von dieser Anleitung einsc...   \n",
       "1                ! Na für die Exposition der Bevölkerung.   \n",
       "2       Mit Star Trek-Medaillen lassen sich zukünftige...   \n",
       "3       \" Ägyptischen Mumien wurden gemacht \"\" gebaut ...   \n",
       "4       „ Grundlagen“: grundlegende Bausteine zur Förd...   \n",
       "...                                                   ...   \n",
       "239502  ► Ich habe alle oben genannten Daten, die auf ...   \n",
       "239503   ► Was enthält der Speicher \"Andere\" tatsächlich?   \n",
       "239504  ● Es gibt einfach zu bedienen und umweltfreund...   \n",
       "239506  ♥ Passt sich Ihrem Spielstil, ideal für Anfäng...   \n",
       "239507  ♥ Ausgefeilte Algorithmen, die Ihre Karten zu ...   \n",
       "\n",
       "                                                  English  \\\n",
       "0       You can download the tool from this guide incl...   \n",
       "1                               ! Na for public exposure.   \n",
       "2       !{Star Trek} medals are used to unlock future ...   \n",
       "3       \" Egyptian mummies were made as \"\" built like ...   \n",
       "4       \" Enablers\" , i.e. the basic building blocks w...   \n",
       "...                                                   ...   \n",
       "239502  ► I've deleted all the stuff you named above t...   \n",
       "239503     ► What's actually included in \"other\" storage?   \n",
       "239504  ● Are user and environmentally friendly and ea...   \n",
       "239506  ♥ Adjusts to your playing style, perfect for B...   \n",
       "239507  ♥ Sophisticated algorithms that analyze your c...   \n",
       "\n",
       "                                                Slovenian  \\\n",
       "0       Lahko prenesete orodje iz tega priročnika, vkl...   \n",
       "1                             ! Na javno izpostavljenost.   \n",
       "2       Medalje Star Trek se uporabljajo za odklep bod...   \n",
       "3       \" Egipčanske mumije so bile narejene kot \"\" zg...   \n",
       "4       „potencial“ : temeljni gradniki, ki omogočajo ...   \n",
       "...                                                   ...   \n",
       "239502  ► Iz telefona sem izbrisal vse vsebine, ki ste...   \n",
       "239503       ► Kaj pravzaprav vsebuje kategorija »drugo«?   \n",
       "239504                ● Enostavno za čiščenje in storitev   \n",
       "239506  ♥ Nastavi na vaše igranje slog, kot nalašč za ...   \n",
       "239507  ♥ Zahtevnejši algoritmi, ki analizira vaše kar...   \n",
       "\n",
       "                                                    Czech  \n",
       "0       Zde si můžete stáhnout nástroj z této příručky...  \n",
       "1                                 ! Na veřejné vystavení.  \n",
       "2       Medaile Star Trek se používají k otevření dalš...  \n",
       "3       \" Egyptských mumií byly jako \"\" postavený jako...  \n",
       "4       „ Předpoklady “, tj. základní stavební kameny,...  \n",
       "...                                                   ...  \n",
       "239502  ► Odstranil(a) jsem všechny výše uvedené polož...  \n",
       "239503   ► Co vlastně spadá do úložiště s názvem „další“?  \n",
       "239504      snadné použití a šetrné k životnímu prostředí  \n",
       "239506  ♥ Přizpůsobí se vašemu stylu hry, ideální pro ...  \n",
       "239507  ♥ Sofistikované algoritmy, které analyzují své...  \n",
       "\n",
       "[100744 rows x 4 columns]"
      ]
     },
     "execution_count": 76,
     "metadata": {},
     "output_type": "execute_result"
    }
   ],
   "source": [
    "df_multilingual"
   ]
  },
  {
   "cell_type": "markdown",
   "id": "5e108e9c",
   "metadata": {},
   "source": [
    "Next, we will filter out sentences, which are **too long** and **too short**. That means that our sentences will be between 5 and 25 words long.\n",
    "We will filter the sentences depending on the length of the English sentences!"
   ]
  },
  {
   "cell_type": "code",
   "execution_count": 77,
   "id": "0c5c6ae8",
   "metadata": {},
   "outputs": [
    {
     "data": {
      "text/html": [
       "<div>\n",
       "<style scoped>\n",
       "    .dataframe tbody tr th:only-of-type {\n",
       "        vertical-align: middle;\n",
       "    }\n",
       "\n",
       "    .dataframe tbody tr th {\n",
       "        vertical-align: top;\n",
       "    }\n",
       "\n",
       "    .dataframe thead th {\n",
       "        text-align: right;\n",
       "    }\n",
       "</style>\n",
       "<table border=\"1\" class=\"dataframe\">\n",
       "  <thead>\n",
       "    <tr style=\"text-align: right;\">\n",
       "      <th></th>\n",
       "      <th>German</th>\n",
       "      <th>English</th>\n",
       "      <th>Slovenian</th>\n",
       "      <th>Czech</th>\n",
       "    </tr>\n",
       "  </thead>\n",
       "  <tbody>\n",
       "    <tr>\n",
       "      <th>0</th>\n",
       "      <td>Sie können das Tool von dieser Anleitung einsc...</td>\n",
       "      <td>You can download the tool from this guide incl...</td>\n",
       "      <td>Lahko prenesete orodje iz tega priročnika, vkl...</td>\n",
       "      <td>Zde si můžete stáhnout nástroj z této příručky...</td>\n",
       "    </tr>\n",
       "    <tr>\n",
       "      <th>2</th>\n",
       "      <td>Mit Star Trek-Medaillen lassen sich zukünftige...</td>\n",
       "      <td>!{Star Trek} medals are used to unlock future ...</td>\n",
       "      <td>Medalje Star Trek se uporabljajo za odklep bod...</td>\n",
       "      <td>Medaile Star Trek se používají k otevření dalš...</td>\n",
       "    </tr>\n",
       "    <tr>\n",
       "      <th>3</th>\n",
       "      <td>\" Ägyptischen Mumien wurden gemacht \"\" gebaut ...</td>\n",
       "      <td>\" Egyptian mummies were made as \"\" built like ...</td>\n",
       "      <td>\" Egipčanske mumije so bile narejene kot \"\" zg...</td>\n",
       "      <td>\" Egyptských mumií byly jako \"\" postavený jako...</td>\n",
       "    </tr>\n",
       "    <tr>\n",
       "      <th>4</th>\n",
       "      <td>„ Grundlagen“: grundlegende Bausteine zur Förd...</td>\n",
       "      <td>\" Enablers\" , i.e. the basic building blocks w...</td>\n",
       "      <td>„potencial“ : temeljni gradniki, ki omogočajo ...</td>\n",
       "      <td>„ Předpoklady “, tj. základní stavební kameny,...</td>\n",
       "    </tr>\n",
       "    <tr>\n",
       "      <th>7</th>\n",
       "      <td>\"Ich bin sehr dankbar für diese USB Security-S...</td>\n",
       "      <td>\" I am very thankful for this USB Security sof...</td>\n",
       "      <td>\"Zelo sem hvaležen za to USB varnostne program...</td>\n",
       "      <td>\"Jsem velmi vděčný za tuto USB bezpečnostní so...</td>\n",
       "    </tr>\n",
       "    <tr>\n",
       "      <th>...</th>\n",
       "      <td>...</td>\n",
       "      <td>...</td>\n",
       "      <td>...</td>\n",
       "      <td>...</td>\n",
       "    </tr>\n",
       "    <tr>\n",
       "      <th>239502</th>\n",
       "      <td>► Ich habe alle oben genannten Daten, die auf ...</td>\n",
       "      <td>► I've deleted all the stuff you named above t...</td>\n",
       "      <td>► Iz telefona sem izbrisal vse vsebine, ki ste...</td>\n",
       "      <td>► Odstranil(a) jsem všechny výše uvedené polož...</td>\n",
       "    </tr>\n",
       "    <tr>\n",
       "      <th>239503</th>\n",
       "      <td>► Was enthält der Speicher \"Andere\" tatsächlich?</td>\n",
       "      <td>► What's actually included in \"other\" storage?</td>\n",
       "      <td>► Kaj pravzaprav vsebuje kategorija »drugo«?</td>\n",
       "      <td>► Co vlastně spadá do úložiště s názvem „další“?</td>\n",
       "    </tr>\n",
       "    <tr>\n",
       "      <th>239504</th>\n",
       "      <td>● Es gibt einfach zu bedienen und umweltfreund...</td>\n",
       "      <td>● Are user and environmentally friendly and ea...</td>\n",
       "      <td>● Enostavno za čiščenje in storitev</td>\n",
       "      <td>snadné použití a šetrné k životnímu prostředí</td>\n",
       "    </tr>\n",
       "    <tr>\n",
       "      <th>239506</th>\n",
       "      <td>♥ Passt sich Ihrem Spielstil, ideal für Anfäng...</td>\n",
       "      <td>♥ Adjusts to your playing style, perfect for B...</td>\n",
       "      <td>♥ Nastavi na vaše igranje slog, kot nalašč za ...</td>\n",
       "      <td>♥ Přizpůsobí se vašemu stylu hry, ideální pro ...</td>\n",
       "    </tr>\n",
       "    <tr>\n",
       "      <th>239507</th>\n",
       "      <td>♥ Ausgefeilte Algorithmen, die Ihre Karten zu ...</td>\n",
       "      <td>♥ Sophisticated algorithms that analyze your c...</td>\n",
       "      <td>♥ Zahtevnejši algoritmi, ki analizira vaše kar...</td>\n",
       "      <td>♥ Sofistikované algoritmy, které analyzují své...</td>\n",
       "    </tr>\n",
       "  </tbody>\n",
       "</table>\n",
       "<p>76879 rows × 4 columns</p>\n",
       "</div>"
      ],
      "text/plain": [
       "                                                   German  \\\n",
       "0       Sie können das Tool von dieser Anleitung einsc...   \n",
       "2       Mit Star Trek-Medaillen lassen sich zukünftige...   \n",
       "3       \" Ägyptischen Mumien wurden gemacht \"\" gebaut ...   \n",
       "4       „ Grundlagen“: grundlegende Bausteine zur Förd...   \n",
       "7       \"Ich bin sehr dankbar für diese USB Security-S...   \n",
       "...                                                   ...   \n",
       "239502  ► Ich habe alle oben genannten Daten, die auf ...   \n",
       "239503   ► Was enthält der Speicher \"Andere\" tatsächlich?   \n",
       "239504  ● Es gibt einfach zu bedienen und umweltfreund...   \n",
       "239506  ♥ Passt sich Ihrem Spielstil, ideal für Anfäng...   \n",
       "239507  ♥ Ausgefeilte Algorithmen, die Ihre Karten zu ...   \n",
       "\n",
       "                                                  English  \\\n",
       "0       You can download the tool from this guide incl...   \n",
       "2       !{Star Trek} medals are used to unlock future ...   \n",
       "3       \" Egyptian mummies were made as \"\" built like ...   \n",
       "4       \" Enablers\" , i.e. the basic building blocks w...   \n",
       "7       \" I am very thankful for this USB Security sof...   \n",
       "...                                                   ...   \n",
       "239502  ► I've deleted all the stuff you named above t...   \n",
       "239503     ► What's actually included in \"other\" storage?   \n",
       "239504  ● Are user and environmentally friendly and ea...   \n",
       "239506  ♥ Adjusts to your playing style, perfect for B...   \n",
       "239507  ♥ Sophisticated algorithms that analyze your c...   \n",
       "\n",
       "                                                Slovenian  \\\n",
       "0       Lahko prenesete orodje iz tega priročnika, vkl...   \n",
       "2       Medalje Star Trek se uporabljajo za odklep bod...   \n",
       "3       \" Egipčanske mumije so bile narejene kot \"\" zg...   \n",
       "4       „potencial“ : temeljni gradniki, ki omogočajo ...   \n",
       "7       \"Zelo sem hvaležen za to USB varnostne program...   \n",
       "...                                                   ...   \n",
       "239502  ► Iz telefona sem izbrisal vse vsebine, ki ste...   \n",
       "239503       ► Kaj pravzaprav vsebuje kategorija »drugo«?   \n",
       "239504                ● Enostavno za čiščenje in storitev   \n",
       "239506  ♥ Nastavi na vaše igranje slog, kot nalašč za ...   \n",
       "239507  ♥ Zahtevnejši algoritmi, ki analizira vaše kar...   \n",
       "\n",
       "                                                    Czech  \n",
       "0       Zde si můžete stáhnout nástroj z této příručky...  \n",
       "2       Medaile Star Trek se používají k otevření dalš...  \n",
       "3       \" Egyptských mumií byly jako \"\" postavený jako...  \n",
       "4       „ Předpoklady “, tj. základní stavební kameny,...  \n",
       "7       \"Jsem velmi vděčný za tuto USB bezpečnostní so...  \n",
       "...                                                   ...  \n",
       "239502  ► Odstranil(a) jsem všechny výše uvedené polož...  \n",
       "239503   ► Co vlastně spadá do úložiště s názvem „další“?  \n",
       "239504      snadné použití a šetrné k životnímu prostředí  \n",
       "239506  ♥ Přizpůsobí se vašemu stylu hry, ideální pro ...  \n",
       "239507  ♥ Sofistikované algoritmy, které analyzují své...  \n",
       "\n",
       "[76879 rows x 4 columns]"
      ]
     },
     "execution_count": 77,
     "metadata": {},
     "output_type": "execute_result"
    }
   ],
   "source": [
    "# Create a tokenizer, which counts only the words\n",
    "tokenizer = RegexpTokenizer(r'\\w+')\n",
    "\n",
    "# Get only the rows, which contain english sentences between 5 and 25 words long\n",
    "df_multilingual = df_multilingual[\n",
    "    df_multilingual[\"English\"].apply(lambda sentence_en: len(tokenizer.tokenize(sentence_en)) <= 25 and len(tokenizer.tokenize(sentence_en)) >= 5)\n",
    "]\n",
    "df_multilingual"
   ]
  },
  {
   "cell_type": "markdown",
   "id": "f9611208",
   "metadata": {},
   "source": [
    "Now when we have filtered the whole multilingual dataset, we are left with **76,879 rows**. Let's export the data."
   ]
  },
  {
   "cell_type": "code",
   "execution_count": 108,
   "id": "850e6195",
   "metadata": {},
   "outputs": [
    {
     "data": {
      "text/html": [
       "<div>\n",
       "<style scoped>\n",
       "    .dataframe tbody tr th:only-of-type {\n",
       "        vertical-align: middle;\n",
       "    }\n",
       "\n",
       "    .dataframe tbody tr th {\n",
       "        vertical-align: top;\n",
       "    }\n",
       "\n",
       "    .dataframe thead th {\n",
       "        text-align: right;\n",
       "    }\n",
       "</style>\n",
       "<table border=\"1\" class=\"dataframe\">\n",
       "  <thead>\n",
       "    <tr style=\"text-align: right;\">\n",
       "      <th></th>\n",
       "      <th>German</th>\n",
       "      <th>English</th>\n",
       "      <th>Slovenian</th>\n",
       "      <th>Czech</th>\n",
       "    </tr>\n",
       "  </thead>\n",
       "  <tbody>\n",
       "    <tr>\n",
       "      <th>0</th>\n",
       "      <td>Sie können das Tool von dieser Anleitung einsc...</td>\n",
       "      <td>You can download the tool from this guide incl...</td>\n",
       "      <td>Lahko prenesete orodje iz tega priročnika, vkl...</td>\n",
       "      <td>Zde si můžete stáhnout nástroj z této příručky...</td>\n",
       "    </tr>\n",
       "    <tr>\n",
       "      <th>1</th>\n",
       "      <td>Mit Star Trek-Medaillen lassen sich zukünftige...</td>\n",
       "      <td>!{Star Trek} medals are used to unlock future ...</td>\n",
       "      <td>Medalje Star Trek se uporabljajo za odklep bod...</td>\n",
       "      <td>Medaile Star Trek se používají k otevření dalš...</td>\n",
       "    </tr>\n",
       "    <tr>\n",
       "      <th>2</th>\n",
       "      <td>\" Ägyptischen Mumien wurden gemacht \"\" gebaut ...</td>\n",
       "      <td>\" Egyptian mummies were made as \"\" built like ...</td>\n",
       "      <td>\" Egipčanske mumije so bile narejene kot \"\" zg...</td>\n",
       "      <td>\" Egyptských mumií byly jako \"\" postavený jako...</td>\n",
       "    </tr>\n",
       "    <tr>\n",
       "      <th>3</th>\n",
       "      <td>„ Grundlagen“: grundlegende Bausteine zur Förd...</td>\n",
       "      <td>\" Enablers\" , i.e. the basic building blocks w...</td>\n",
       "      <td>„potencial“ : temeljni gradniki, ki omogočajo ...</td>\n",
       "      <td>„ Předpoklady “, tj. základní stavební kameny,...</td>\n",
       "    </tr>\n",
       "    <tr>\n",
       "      <th>4</th>\n",
       "      <td>\"Ich bin sehr dankbar für diese USB Security-S...</td>\n",
       "      <td>\" I am very thankful for this USB Security sof...</td>\n",
       "      <td>\"Zelo sem hvaležen za to USB varnostne program...</td>\n",
       "      <td>\"Jsem velmi vděčný za tuto USB bezpečnostní so...</td>\n",
       "    </tr>\n",
       "    <tr>\n",
       "      <th>...</th>\n",
       "      <td>...</td>\n",
       "      <td>...</td>\n",
       "      <td>...</td>\n",
       "      <td>...</td>\n",
       "    </tr>\n",
       "    <tr>\n",
       "      <th>76874</th>\n",
       "      <td>► Ich habe alle oben genannten Daten, die auf ...</td>\n",
       "      <td>► I've deleted all the stuff you named above t...</td>\n",
       "      <td>► Iz telefona sem izbrisal vse vsebine, ki ste...</td>\n",
       "      <td>► Odstranil(a) jsem všechny výše uvedené polož...</td>\n",
       "    </tr>\n",
       "    <tr>\n",
       "      <th>76875</th>\n",
       "      <td>► Was enthält der Speicher \"Andere\" tatsächlich?</td>\n",
       "      <td>► What's actually included in \"other\" storage?</td>\n",
       "      <td>► Kaj pravzaprav vsebuje kategorija »drugo«?</td>\n",
       "      <td>► Co vlastně spadá do úložiště s názvem „další“?</td>\n",
       "    </tr>\n",
       "    <tr>\n",
       "      <th>76876</th>\n",
       "      <td>● Es gibt einfach zu bedienen und umweltfreund...</td>\n",
       "      <td>● Are user and environmentally friendly and ea...</td>\n",
       "      <td>● Enostavno za čiščenje in storitev</td>\n",
       "      <td>snadné použití a šetrné k životnímu prostředí</td>\n",
       "    </tr>\n",
       "    <tr>\n",
       "      <th>76877</th>\n",
       "      <td>♥ Passt sich Ihrem Spielstil, ideal für Anfäng...</td>\n",
       "      <td>♥ Adjusts to your playing style, perfect for B...</td>\n",
       "      <td>♥ Nastavi na vaše igranje slog, kot nalašč za ...</td>\n",
       "      <td>♥ Přizpůsobí se vašemu stylu hry, ideální pro ...</td>\n",
       "    </tr>\n",
       "    <tr>\n",
       "      <th>76878</th>\n",
       "      <td>♥ Ausgefeilte Algorithmen, die Ihre Karten zu ...</td>\n",
       "      <td>♥ Sophisticated algorithms that analyze your c...</td>\n",
       "      <td>♥ Zahtevnejši algoritmi, ki analizira vaše kar...</td>\n",
       "      <td>♥ Sofistikované algoritmy, které analyzují své...</td>\n",
       "    </tr>\n",
       "  </tbody>\n",
       "</table>\n",
       "<p>76879 rows × 4 columns</p>\n",
       "</div>"
      ],
      "text/plain": [
       "                                                  German  \\\n",
       "0      Sie können das Tool von dieser Anleitung einsc...   \n",
       "1      Mit Star Trek-Medaillen lassen sich zukünftige...   \n",
       "2      \" Ägyptischen Mumien wurden gemacht \"\" gebaut ...   \n",
       "3      „ Grundlagen“: grundlegende Bausteine zur Förd...   \n",
       "4      \"Ich bin sehr dankbar für diese USB Security-S...   \n",
       "...                                                  ...   \n",
       "76874  ► Ich habe alle oben genannten Daten, die auf ...   \n",
       "76875   ► Was enthält der Speicher \"Andere\" tatsächlich?   \n",
       "76876  ● Es gibt einfach zu bedienen und umweltfreund...   \n",
       "76877  ♥ Passt sich Ihrem Spielstil, ideal für Anfäng...   \n",
       "76878  ♥ Ausgefeilte Algorithmen, die Ihre Karten zu ...   \n",
       "\n",
       "                                                 English  \\\n",
       "0      You can download the tool from this guide incl...   \n",
       "1      !{Star Trek} medals are used to unlock future ...   \n",
       "2      \" Egyptian mummies were made as \"\" built like ...   \n",
       "3      \" Enablers\" , i.e. the basic building blocks w...   \n",
       "4      \" I am very thankful for this USB Security sof...   \n",
       "...                                                  ...   \n",
       "76874  ► I've deleted all the stuff you named above t...   \n",
       "76875     ► What's actually included in \"other\" storage?   \n",
       "76876  ● Are user and environmentally friendly and ea...   \n",
       "76877  ♥ Adjusts to your playing style, perfect for B...   \n",
       "76878  ♥ Sophisticated algorithms that analyze your c...   \n",
       "\n",
       "                                               Slovenian  \\\n",
       "0      Lahko prenesete orodje iz tega priročnika, vkl...   \n",
       "1      Medalje Star Trek se uporabljajo za odklep bod...   \n",
       "2      \" Egipčanske mumije so bile narejene kot \"\" zg...   \n",
       "3      „potencial“ : temeljni gradniki, ki omogočajo ...   \n",
       "4      \"Zelo sem hvaležen za to USB varnostne program...   \n",
       "...                                                  ...   \n",
       "76874  ► Iz telefona sem izbrisal vse vsebine, ki ste...   \n",
       "76875       ► Kaj pravzaprav vsebuje kategorija »drugo«?   \n",
       "76876                ● Enostavno za čiščenje in storitev   \n",
       "76877  ♥ Nastavi na vaše igranje slog, kot nalašč za ...   \n",
       "76878  ♥ Zahtevnejši algoritmi, ki analizira vaše kar...   \n",
       "\n",
       "                                                   Czech  \n",
       "0      Zde si můžete stáhnout nástroj z této příručky...  \n",
       "1      Medaile Star Trek se používají k otevření dalš...  \n",
       "2      \" Egyptských mumií byly jako \"\" postavený jako...  \n",
       "3      „ Předpoklady “, tj. základní stavební kameny,...  \n",
       "4      \"Jsem velmi vděčný za tuto USB bezpečnostní so...  \n",
       "...                                                  ...  \n",
       "76874  ► Odstranil(a) jsem všechny výše uvedené polož...  \n",
       "76875   ► Co vlastně spadá do úložiště s názvem „další“?  \n",
       "76876      snadné použití a šetrné k životnímu prostředí  \n",
       "76877  ♥ Přizpůsobí se vašemu stylu hry, ideální pro ...  \n",
       "76878  ♥ Sofistikované algoritmy, které analyzují své...  \n",
       "\n",
       "[76879 rows x 4 columns]"
      ]
     },
     "execution_count": 108,
     "metadata": {},
     "output_type": "execute_result"
    }
   ],
   "source": [
    "# Reset the index\n",
    "df_multilingual.reset_index(drop=True, inplace=True)\n",
    "df_multilingual"
   ]
  },
  {
   "cell_type": "code",
   "execution_count": 109,
   "id": "961fb48b",
   "metadata": {},
   "outputs": [],
   "source": [
    "# Export the filtered data\n",
    "df_multilingual.to_csv('data/multilingual_filtered.csv', index=False)"
   ]
  },
  {
   "cell_type": "markdown",
   "id": "8edfa3b7",
   "metadata": {},
   "source": [
    "#### 2.2. Filtering the multilingual dataset\n",
    "\n",
    "Now, when we have the filtered sentences from the multilingual dataset, we can again generate the three singlelingual datasets, which will also have filtered data."
   ]
  },
  {
   "cell_type": "code",
   "execution_count": 110,
   "id": "1a83c897",
   "metadata": {},
   "outputs": [],
   "source": [
    "df_multilingual_filtered = pd.read_csv('data/multilingual_filtered.csv')"
   ]
  },
  {
   "cell_type": "code",
   "execution_count": 111,
   "id": "627e384c",
   "metadata": {},
   "outputs": [
    {
     "data": {
      "text/html": [
       "<div>\n",
       "<style scoped>\n",
       "    .dataframe tbody tr th:only-of-type {\n",
       "        vertical-align: middle;\n",
       "    }\n",
       "\n",
       "    .dataframe tbody tr th {\n",
       "        vertical-align: top;\n",
       "    }\n",
       "\n",
       "    .dataframe thead th {\n",
       "        text-align: right;\n",
       "    }\n",
       "</style>\n",
       "<table border=\"1\" class=\"dataframe\">\n",
       "  <thead>\n",
       "    <tr style=\"text-align: right;\">\n",
       "      <th></th>\n",
       "      <th>English</th>\n",
       "      <th>German</th>\n",
       "    </tr>\n",
       "  </thead>\n",
       "  <tbody>\n",
       "    <tr>\n",
       "      <th>0</th>\n",
       "      <td>You can download the tool from this guide incl...</td>\n",
       "      <td>Sie können das Tool von dieser Anleitung einsc...</td>\n",
       "    </tr>\n",
       "    <tr>\n",
       "      <th>1</th>\n",
       "      <td>!{Star Trek} medals are used to unlock future ...</td>\n",
       "      <td>Mit Star Trek-Medaillen lassen sich zukünftige...</td>\n",
       "    </tr>\n",
       "    <tr>\n",
       "      <th>2</th>\n",
       "      <td>\" Egyptian mummies were made as \"\" built like ...</td>\n",
       "      <td>\" Ägyptischen Mumien wurden gemacht \"\" gebaut ...</td>\n",
       "    </tr>\n",
       "    <tr>\n",
       "      <th>3</th>\n",
       "      <td>\" Enablers\" , i.e. the basic building blocks w...</td>\n",
       "      <td>„ Grundlagen“: grundlegende Bausteine zur Förd...</td>\n",
       "    </tr>\n",
       "    <tr>\n",
       "      <th>4</th>\n",
       "      <td>\" I am very thankful for this USB Security sof...</td>\n",
       "      <td>\"Ich bin sehr dankbar für diese USB Security-S...</td>\n",
       "    </tr>\n",
       "  </tbody>\n",
       "</table>\n",
       "</div>"
      ],
      "text/plain": [
       "                                             English  \\\n",
       "0  You can download the tool from this guide incl...   \n",
       "1  !{Star Trek} medals are used to unlock future ...   \n",
       "2  \" Egyptian mummies were made as \"\" built like ...   \n",
       "3  \" Enablers\" , i.e. the basic building blocks w...   \n",
       "4  \" I am very thankful for this USB Security sof...   \n",
       "\n",
       "                                              German  \n",
       "0  Sie können das Tool von dieser Anleitung einsc...  \n",
       "1  Mit Star Trek-Medaillen lassen sich zukünftige...  \n",
       "2  \" Ägyptischen Mumien wurden gemacht \"\" gebaut ...  \n",
       "3  „ Grundlagen“: grundlegende Bausteine zur Förd...  \n",
       "4  \"Ich bin sehr dankbar für diese USB Security-S...  "
      ]
     },
     "execution_count": 111,
     "metadata": {},
     "output_type": "execute_result"
    }
   ],
   "source": [
    "# Generate new DE-EN dataset from the multilingual dataset\n",
    "df_de_en_filtered = df_multilingual_filtered[['English', 'German']]\n",
    "df_de_en_filtered.head()"
   ]
  },
  {
   "cell_type": "code",
   "execution_count": 112,
   "id": "ee2bc007",
   "metadata": {
    "scrolled": true
   },
   "outputs": [
    {
     "data": {
      "text/html": [
       "<div>\n",
       "<style scoped>\n",
       "    .dataframe tbody tr th:only-of-type {\n",
       "        vertical-align: middle;\n",
       "    }\n",
       "\n",
       "    .dataframe tbody tr th {\n",
       "        vertical-align: top;\n",
       "    }\n",
       "\n",
       "    .dataframe thead th {\n",
       "        text-align: right;\n",
       "    }\n",
       "</style>\n",
       "<table border=\"1\" class=\"dataframe\">\n",
       "  <thead>\n",
       "    <tr style=\"text-align: right;\">\n",
       "      <th></th>\n",
       "      <th>English</th>\n",
       "      <th>Czech</th>\n",
       "    </tr>\n",
       "  </thead>\n",
       "  <tbody>\n",
       "    <tr>\n",
       "      <th>0</th>\n",
       "      <td>You can download the tool from this guide incl...</td>\n",
       "      <td>Zde si můžete stáhnout nástroj z této příručky...</td>\n",
       "    </tr>\n",
       "    <tr>\n",
       "      <th>1</th>\n",
       "      <td>!{Star Trek} medals are used to unlock future ...</td>\n",
       "      <td>Medaile Star Trek se používají k otevření dalš...</td>\n",
       "    </tr>\n",
       "    <tr>\n",
       "      <th>2</th>\n",
       "      <td>\" Egyptian mummies were made as \"\" built like ...</td>\n",
       "      <td>\" Egyptských mumií byly jako \"\" postavený jako...</td>\n",
       "    </tr>\n",
       "    <tr>\n",
       "      <th>3</th>\n",
       "      <td>\" Enablers\" , i.e. the basic building blocks w...</td>\n",
       "      <td>„ Předpoklady “, tj. základní stavební kameny,...</td>\n",
       "    </tr>\n",
       "    <tr>\n",
       "      <th>4</th>\n",
       "      <td>\" I am very thankful for this USB Security sof...</td>\n",
       "      <td>\"Jsem velmi vděčný za tuto USB bezpečnostní so...</td>\n",
       "    </tr>\n",
       "  </tbody>\n",
       "</table>\n",
       "</div>"
      ],
      "text/plain": [
       "                                             English  \\\n",
       "0  You can download the tool from this guide incl...   \n",
       "1  !{Star Trek} medals are used to unlock future ...   \n",
       "2  \" Egyptian mummies were made as \"\" built like ...   \n",
       "3  \" Enablers\" , i.e. the basic building blocks w...   \n",
       "4  \" I am very thankful for this USB Security sof...   \n",
       "\n",
       "                                               Czech  \n",
       "0  Zde si můžete stáhnout nástroj z této příručky...  \n",
       "1  Medaile Star Trek se používají k otevření dalš...  \n",
       "2  \" Egyptských mumií byly jako \"\" postavený jako...  \n",
       "3  „ Předpoklady “, tj. základní stavební kameny,...  \n",
       "4  \"Jsem velmi vděčný za tuto USB bezpečnostní so...  "
      ]
     },
     "execution_count": 112,
     "metadata": {},
     "output_type": "execute_result"
    }
   ],
   "source": [
    "# Generate new CZ-EN datasets from the multilingual dataset\n",
    "df_cz_en_filtered = df_multilingual_filtered[['English', 'Czech']]\n",
    "df_cz_en_filtered.head()"
   ]
  },
  {
   "cell_type": "code",
   "execution_count": 113,
   "id": "7d9655d1",
   "metadata": {},
   "outputs": [
    {
     "data": {
      "text/html": [
       "<div>\n",
       "<style scoped>\n",
       "    .dataframe tbody tr th:only-of-type {\n",
       "        vertical-align: middle;\n",
       "    }\n",
       "\n",
       "    .dataframe tbody tr th {\n",
       "        vertical-align: top;\n",
       "    }\n",
       "\n",
       "    .dataframe thead th {\n",
       "        text-align: right;\n",
       "    }\n",
       "</style>\n",
       "<table border=\"1\" class=\"dataframe\">\n",
       "  <thead>\n",
       "    <tr style=\"text-align: right;\">\n",
       "      <th></th>\n",
       "      <th>English</th>\n",
       "      <th>Slovenian</th>\n",
       "    </tr>\n",
       "  </thead>\n",
       "  <tbody>\n",
       "    <tr>\n",
       "      <th>0</th>\n",
       "      <td>You can download the tool from this guide incl...</td>\n",
       "      <td>Lahko prenesete orodje iz tega priročnika, vkl...</td>\n",
       "    </tr>\n",
       "    <tr>\n",
       "      <th>1</th>\n",
       "      <td>!{Star Trek} medals are used to unlock future ...</td>\n",
       "      <td>Medalje Star Trek se uporabljajo za odklep bod...</td>\n",
       "    </tr>\n",
       "    <tr>\n",
       "      <th>2</th>\n",
       "      <td>\" Egyptian mummies were made as \"\" built like ...</td>\n",
       "      <td>\" Egipčanske mumije so bile narejene kot \"\" zg...</td>\n",
       "    </tr>\n",
       "    <tr>\n",
       "      <th>3</th>\n",
       "      <td>\" Enablers\" , i.e. the basic building blocks w...</td>\n",
       "      <td>„potencial“ : temeljni gradniki, ki omogočajo ...</td>\n",
       "    </tr>\n",
       "    <tr>\n",
       "      <th>4</th>\n",
       "      <td>\" I am very thankful for this USB Security sof...</td>\n",
       "      <td>\"Zelo sem hvaležen za to USB varnostne program...</td>\n",
       "    </tr>\n",
       "  </tbody>\n",
       "</table>\n",
       "</div>"
      ],
      "text/plain": [
       "                                             English  \\\n",
       "0  You can download the tool from this guide incl...   \n",
       "1  !{Star Trek} medals are used to unlock future ...   \n",
       "2  \" Egyptian mummies were made as \"\" built like ...   \n",
       "3  \" Enablers\" , i.e. the basic building blocks w...   \n",
       "4  \" I am very thankful for this USB Security sof...   \n",
       "\n",
       "                                           Slovenian  \n",
       "0  Lahko prenesete orodje iz tega priročnika, vkl...  \n",
       "1  Medalje Star Trek se uporabljajo za odklep bod...  \n",
       "2  \" Egipčanske mumije so bile narejene kot \"\" zg...  \n",
       "3  „potencial“ : temeljni gradniki, ki omogočajo ...  \n",
       "4  \"Zelo sem hvaležen za to USB varnostne program...  "
      ]
     },
     "execution_count": 113,
     "metadata": {},
     "output_type": "execute_result"
    }
   ],
   "source": [
    "# Generate new SL-EN datasets from the multilingual dataset\n",
    "df_sl_en_filtered = df_multilingual_filtered[['English', 'Slovenian']]\n",
    "df_sl_en_filtered.head()"
   ]
  },
  {
   "cell_type": "code",
   "execution_count": 114,
   "id": "fe6c4be4",
   "metadata": {},
   "outputs": [],
   "source": [
    "# Extract the filtered CZ-EN dataset as a csv file\n",
    "df_cz_en_filtered.to_csv('data/cz_en_filtered.csv', index=False)"
   ]
  },
  {
   "cell_type": "code",
   "execution_count": 115,
   "id": "1d76acd4",
   "metadata": {},
   "outputs": [],
   "source": [
    "# Extract the filtered DE-EN dataset as a csv file\n",
    "df_de_en_filtered.to_csv('data/de_en_filtered.csv', index=False)"
   ]
  },
  {
   "cell_type": "code",
   "execution_count": 116,
   "id": "20d393c2",
   "metadata": {},
   "outputs": [],
   "source": [
    "# Extract the filtered SL-EN dataset as a csv file\n",
    "df_sl_en_filtered.to_csv('data/sl_en_filtered.csv', index=False)"
   ]
  }
 ],
 "metadata": {
  "kernelspec": {
   "display_name": "Python 3 (ipykernel)",
   "language": "python",
   "name": "python3"
  },
  "language_info": {
   "codemirror_mode": {
    "name": "ipython",
    "version": 3
   },
   "file_extension": ".py",
   "mimetype": "text/x-python",
   "name": "python",
   "nbconvert_exporter": "python",
   "pygments_lexer": "ipython3",
   "version": "3.7.16"
  }
 },
 "nbformat": 4,
 "nbformat_minor": 5
}
