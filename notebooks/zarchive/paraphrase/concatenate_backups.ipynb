{
 "cells": [
  {
   "cell_type": "markdown",
   "id": "efc43ab4-1918-4ad2-85ca-780f04876a00",
   "metadata": {},
   "source": [
    "# Concatenate backups"
   ]
  },
  {
   "cell_type": "code",
   "execution_count": 1,
   "id": "a65ea283-3fc0-43d4-9bd2-ce2ef6bd9326",
   "metadata": {},
   "outputs": [],
   "source": [
    "import pandas as pd\n",
    "import itertools"
   ]
  },
  {
   "cell_type": "markdown",
   "id": "ece6e214-6345-420d-a0f8-1a2844dc3b2f",
   "metadata": {},
   "source": [
    "# Settings"
   ]
  },
  {
   "cell_type": "code",
   "execution_count": 2,
   "id": "7eddb9ab-de8c-4cae-b3ba-5b36ef6a73bb",
   "metadata": {},
   "outputs": [],
   "source": [
    "RUN_ID = \"e3da0078\"\n",
    "\n",
    "BACKUP_PATH = \"./backups/\"\n",
    "INDEX_COL_NAME = \"Unnamed: 0\""
   ]
  },
  {
   "cell_type": "markdown",
   "id": "ff962033-9fa9-4da0-a795-c33b2760a27c",
   "metadata": {},
   "source": [
    "## Read data"
   ]
  },
  {
   "cell_type": "code",
   "execution_count": 3,
   "id": "d0fae7e4-b99c-4286-9279-88da30d52387",
   "metadata": {},
   "outputs": [],
   "source": [
    "def get_backup_path(\n",
    "    chunk_id: int, \n",
    "    lang_src: str, \n",
    "    lang_dst: str,\n",
    "    backup_dir_path: str = BACKUP_PATH,\n",
    "    run_id: str = RUN_ID,\n",
    "):\n",
    "    \"\"\"Returns a backup path for specified chunk\"\"\"\n",
    "    file_name = f\"{RUN_ID}_translate_from_{lang_src}_to_{lang_dst}_{chunk_id}\"\n",
    "    # return {f\"{backup_dir_path}{RUN_ID}_{file_name}.csv\"\n",
    "    return f\"{backup_dir_path}{file_name}\""
   ]
  },
  {
   "cell_type": "code",
   "execution_count": 4,
   "id": "4bf8435f-373f-42a9-9fa2-dd79c21c9356",
   "metadata": {},
   "outputs": [],
   "source": [
    "def load_data_from_backups(\n",
    "    lang_src: str,\n",
    "    lang_dst: str,\n",
    "    verbose: bool = True,\n",
    "):\n",
    "    \"\"\"Loads the paraphrase dataset by concatenating te backuped chunks of it.\"\"\"\n",
    "    df_final = pd.DataFrame()\n",
    "    for chunk_id in itertools.count():\n",
    "        path_curr = get_backup_path(chunk_id, lang_src, lang_dst)\n",
    "        try:\n",
    "            df_chunk = pd.read_csv(path_curr, index_col=INDEX_COL_NAME)\n",
    "        except FileNotFoundError:\n",
    "            if verbose:\n",
    "                print(f\"Backup successfully loaded for {lang_dst}: {df_final.shape[0]:,} rows.\")\n",
    "            return df_final\n",
    "        df_final = pd.concat([df_final, df_chunk], axis=0)"
   ]
  },
  {
   "cell_type": "code",
   "execution_count": 5,
   "id": "0de395a3-1f52-4fd3-8949-4ce5c13fdc32",
   "metadata": {},
   "outputs": [
    {
     "name": "stdout",
     "output_type": "stream",
     "text": [
      "Backup successfully loaded for German: 76,879 rows.\n",
      "Backup successfully loaded for Slovenian: 76,879 rows.\n",
      "Backup successfully loaded for Czech: 76,879 rows.\n",
      "Backup successfully loaded for English: 76,879 rows.\n"
     ]
    }
   ],
   "source": [
    "df_paraphrase_de = load_data_from_backups(\"English\", \"German\")\n",
    "df_paraphrase_sl = load_data_from_backups(\"English\", \"Slovenian\")\n",
    "df_paraphrase_cs = load_data_from_backups(\"English\", \"Czech\")\n",
    "df_paraphrase_en = load_data_from_backups(\"German\", \"English\")"
   ]
  },
  {
   "cell_type": "code",
   "execution_count": 6,
   "id": "d94f6566-32fa-4fea-b9bd-b005de0db659",
   "metadata": {},
   "outputs": [
    {
     "data": {
      "text/html": [
       "<div>\n",
       "<style scoped>\n",
       "    .dataframe tbody tr th:only-of-type {\n",
       "        vertical-align: middle;\n",
       "    }\n",
       "\n",
       "    .dataframe tbody tr th {\n",
       "        vertical-align: top;\n",
       "    }\n",
       "\n",
       "    .dataframe thead th {\n",
       "        text-align: right;\n",
       "    }\n",
       "</style>\n",
       "<table border=\"1\" class=\"dataframe\">\n",
       "  <thead>\n",
       "    <tr style=\"text-align: right;\">\n",
       "      <th></th>\n",
       "      <th>Original</th>\n",
       "      <th>Parahprase</th>\n",
       "    </tr>\n",
       "  </thead>\n",
       "  <tbody>\n",
       "    <tr>\n",
       "      <th>37736</th>\n",
       "      <td>Myths and Facts about the EU budget</td>\n",
       "      <td>Myths and facts about the EU budget</td>\n",
       "    </tr>\n",
       "    <tr>\n",
       "      <th>23740</th>\n",
       "      <td>Goal: Train your memory and remove all the cards</td>\n",
       "      <td>Goal: Train your memory and remove all cards</td>\n",
       "    </tr>\n",
       "    <tr>\n",
       "      <th>7576</th>\n",
       "      <td>And if our words say God is amazing, but our l...</td>\n",
       "      <td>And when our words say God is amazing, but our...</td>\n",
       "    </tr>\n",
       "    <tr>\n",
       "      <th>41364</th>\n",
       "      <td>P101 – If medical advice is needed, have produ...</td>\n",
       "      <td>P101 – If medical advice is required, provide ...</td>\n",
       "    </tr>\n",
       "    <tr>\n",
       "      <th>73216</th>\n",
       "      <td>eHouse Home Automation – Visualization and gra...</td>\n",
       "      <td>Home Automation eHouse – Visualization and gra...</td>\n",
       "    </tr>\n",
       "    <tr>\n",
       "      <th>47702</th>\n",
       "      <td>Software Development for Control Panels rooms ...</td>\n",
       "      <td>Software Development for Control Panels Room f...</td>\n",
       "    </tr>\n",
       "    <tr>\n",
       "      <th>61444</th>\n",
       "      <td>They made them up. So we are sold on something...</td>\n",
       "      <td>So we are sold on something with facts that ca...</td>\n",
       "    </tr>\n",
       "    <tr>\n",
       "      <th>4254</th>\n",
       "      <td>A list of 34 strategic initiatives on which th...</td>\n",
       "      <td>a list of 34 strategic initiatives to be imple...</td>\n",
       "    </tr>\n",
       "    <tr>\n",
       "      <th>21531</th>\n",
       "      <td>Flowers for Mumbai uses the most modern techno...</td>\n",
       "      <td>Flowers for Mumbai uses the most modern techno...</td>\n",
       "    </tr>\n",
       "    <tr>\n",
       "      <th>70988</th>\n",
       "      <td>You can change the colors, width and style on ...</td>\n",
       "      <td>You can change the colors, width and style to ...</td>\n",
       "    </tr>\n",
       "  </tbody>\n",
       "</table>\n",
       "</div>"
      ],
      "text/plain": [
       "                                                Original   \n",
       "37736                Myths and Facts about the EU budget  \\\n",
       "23740   Goal: Train your memory and remove all the cards   \n",
       "7576   And if our words say God is amazing, but our l...   \n",
       "41364  P101 – If medical advice is needed, have produ...   \n",
       "73216  eHouse Home Automation – Visualization and gra...   \n",
       "47702  Software Development for Control Panels rooms ...   \n",
       "61444  They made them up. So we are sold on something...   \n",
       "4254   A list of 34 strategic initiatives on which th...   \n",
       "21531  Flowers for Mumbai uses the most modern techno...   \n",
       "70988  You can change the colors, width and style on ...   \n",
       "\n",
       "                                              Parahprase  \n",
       "37736                Myths and facts about the EU budget  \n",
       "23740       Goal: Train your memory and remove all cards  \n",
       "7576   And when our words say God is amazing, but our...  \n",
       "41364  P101 – If medical advice is required, provide ...  \n",
       "73216  Home Automation eHouse – Visualization and gra...  \n",
       "47702  Software Development for Control Panels Room f...  \n",
       "61444  So we are sold on something with facts that ca...  \n",
       "4254   a list of 34 strategic initiatives to be imple...  \n",
       "21531  Flowers for Mumbai uses the most modern techno...  \n",
       "70988  You can change the colors, width and style to ...  "
      ]
     },
     "execution_count": 6,
     "metadata": {},
     "output_type": "execute_result"
    }
   ],
   "source": [
    "df_paraphrase_en.sample(10)"
   ]
  },
  {
   "cell_type": "markdown",
   "id": "f456b2b3-43d0-4782-85ef-457a46a9326c",
   "metadata": {},
   "source": [
    "## Save data"
   ]
  },
  {
   "cell_type": "code",
   "execution_count": 7,
   "id": "aa08f954-f72f-43fd-882f-9ac6603a7cfc",
   "metadata": {},
   "outputs": [],
   "source": [
    "def save_data(data: pd.DataFrame, path: str):\n",
    "    \"\"\"Saves the dataset\"\"\"\n",
    "    n_rows = data.shape[0] \n",
    "    if n_rows > 0:\n",
    "        data.to_csv(path, index=False)\n",
    "        print(f\"Saving {n_rows:,} rows @ {path}\")\n",
    "    else:\n",
    "        print(f\"Skipping for {path}\")"
   ]
  },
  {
   "cell_type": "code",
   "execution_count": 8,
   "id": "11fa1c29-2d72-493c-83f2-06691b0751ab",
   "metadata": {},
   "outputs": [
    {
     "name": "stdout",
     "output_type": "stream",
     "text": [
      "Saving 76,879 rows @ ./paraphrases_de.csv\n",
      "Saving 76,879 rows @ ./paraphrases_sl.csv\n",
      "Saving 76,879 rows @ ./paraphrases_cs.csv\n",
      "Saving 76,879 rows @ ./paraphrases_en.csv\n"
     ]
    }
   ],
   "source": [
    "save_data(df_paraphrase_de, \"./paraphrases_de.csv\")\n",
    "save_data(df_paraphrase_sl, \"./paraphrases_sl.csv\")\n",
    "save_data(df_paraphrase_cs, \"./paraphrases_cs.csv\")\n",
    "save_data(df_paraphrase_en, \"./paraphrases_en.csv\")"
   ]
  }
 ],
 "metadata": {
  "kernelspec": {
   "display_name": "Python 3 (ipykernel)",
   "language": "python",
   "name": "python3"
  },
  "language_info": {
   "codemirror_mode": {
    "name": "ipython",
    "version": 3
   },
   "file_extension": ".py",
   "mimetype": "text/x-python",
   "name": "python",
   "nbconvert_exporter": "python",
   "pygments_lexer": "ipython3",
   "version": "3.10.11"
  }
 },
 "nbformat": 4,
 "nbformat_minor": 5
}
